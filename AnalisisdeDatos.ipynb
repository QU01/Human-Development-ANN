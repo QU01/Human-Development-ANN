{
  "nbformat": 4,
  "nbformat_minor": 0,
  "metadata": {
    "colab": {
      "name": "Untitled23.ipynb",
      "provenance": [],
      "authorship_tag": "ABX9TyOMLgYE0EW/u74hfJouMFzw",
      "include_colab_link": true
    },
    "kernelspec": {
      "name": "python3",
      "display_name": "Python 3"
    }
  },
  "cells": [
    {
      "cell_type": "markdown",
      "metadata": {
        "id": "view-in-github",
        "colab_type": "text"
      },
      "source": [
        "<a href=\"https://colab.research.google.com/github/QU01/Human-Development-ANN/blob/master/AnalisisdeDatos.ipynb\" target=\"_parent\"><img src=\"https://colab.research.google.com/assets/colab-badge.svg\" alt=\"Open In Colab\"/></a>"
      ]
    },
    {
      "cell_type": "code",
      "metadata": {
        "id": "G7dHywbdxd4G",
        "colab_type": "code",
        "colab": {}
      },
      "source": [
        "import numpy as np\n",
        "import pandas as pd\n",
        "import matplotlib.pyplot as plt"
      ],
      "execution_count": 1,
      "outputs": []
    },
    {
      "cell_type": "code",
      "metadata": {
        "id": "T88ILpUCxj5n",
        "colab_type": "code",
        "colab": {
          "base_uri": "https://localhost:8080/",
          "height": 204
        },
        "outputId": "e5eab61e-8d90-4a28-9042-43dfbd60fe22"
      },
      "source": [
        "dataset_train = pd.read_csv(\"Lifelevelsparameters.csv\", encoding= 'unicode_escape')\n",
        "dataset_train.head()"
      ],
      "execution_count": 8,
      "outputs": [
        {
          "output_type": "execute_result",
          "data": {
            "text/html": [
              "<div>\n",
              "<style scoped>\n",
              "    .dataframe tbody tr th:only-of-type {\n",
              "        vertical-align: middle;\n",
              "    }\n",
              "\n",
              "    .dataframe tbody tr th {\n",
              "        vertical-align: top;\n",
              "    }\n",
              "\n",
              "    .dataframe thead th {\n",
              "        text-align: right;\n",
              "    }\n",
              "</style>\n",
              "<table border=\"1\" class=\"dataframe\">\n",
              "  <thead>\n",
              "    <tr style=\"text-align: right;\">\n",
              "      <th></th>\n",
              "      <th>Country</th>\n",
              "      <th>IEF</th>\n",
              "      <th>Gini</th>\n",
              "      <th>GII</th>\n",
              "      <th>Biocapacity-Footprint</th>\n",
              "      <th>HCI</th>\n",
              "      <th>HDI</th>\n",
              "    </tr>\n",
              "  </thead>\n",
              "  <tbody>\n",
              "    <tr>\n",
              "      <th>0</th>\n",
              "      <td>Norway</td>\n",
              "      <td>73.4</td>\n",
              "      <td>27.0</td>\n",
              "      <td>0.044</td>\n",
              "      <td>1.8</td>\n",
              "      <td>0.8</td>\n",
              "      <td>0.954</td>\n",
              "    </tr>\n",
              "    <tr>\n",
              "      <th>1</th>\n",
              "      <td>Switzerland</td>\n",
              "      <td>82.0</td>\n",
              "      <td>32.7</td>\n",
              "      <td>0.037</td>\n",
              "      <td>-3.6</td>\n",
              "      <td>0.8</td>\n",
              "      <td>0.946</td>\n",
              "    </tr>\n",
              "    <tr>\n",
              "      <th>2</th>\n",
              "      <td>Ireland</td>\n",
              "      <td>80.9</td>\n",
              "      <td>32.8</td>\n",
              "      <td>0.093</td>\n",
              "      <td>-1.7</td>\n",
              "      <td>0.8</td>\n",
              "      <td>0.942</td>\n",
              "    </tr>\n",
              "    <tr>\n",
              "      <th>3</th>\n",
              "      <td>Germany</td>\n",
              "      <td>73.5</td>\n",
              "      <td>31.9</td>\n",
              "      <td>0.084</td>\n",
              "      <td>-3.2</td>\n",
              "      <td>0.8</td>\n",
              "      <td>0.939</td>\n",
              "    </tr>\n",
              "    <tr>\n",
              "      <th>4</th>\n",
              "      <td>Australia</td>\n",
              "      <td>82.6</td>\n",
              "      <td>34.4</td>\n",
              "      <td>0.103</td>\n",
              "      <td>5.7</td>\n",
              "      <td>0.8</td>\n",
              "      <td>0.938</td>\n",
              "    </tr>\n",
              "  </tbody>\n",
              "</table>\n",
              "</div>"
            ],
            "text/plain": [
              "        Country   IEF  Gini    GII  Biocapacity-Footprint  HCI    HDI\n",
              "0       Norway   73.4  27.0  0.044                    1.8  0.8  0.954\n",
              "1  Switzerland   82.0  32.7  0.037                   -3.6  0.8  0.946\n",
              "2      Ireland   80.9  32.8  0.093                   -1.7  0.8  0.942\n",
              "3      Germany   73.5  31.9  0.084                   -3.2  0.8  0.939\n",
              "4    Australia   82.6  34.4  0.103                    5.7  0.8  0.938"
            ]
          },
          "metadata": {
            "tags": []
          },
          "execution_count": 8
        }
      ]
    },
    {
      "cell_type": "code",
      "metadata": {
        "id": "9NfSg-HW1qy-",
        "colab_type": "code",
        "colab": {
          "base_uri": "https://localhost:8080/",
          "height": 1000
        },
        "outputId": "d882bc2e-f83a-4f43-a2de-133d714fe3b5"
      },
      "source": [
        "training_set  = dataset_train.iloc[:, 1:6].values\n",
        "training_set"
      ],
      "execution_count": 14,
      "outputs": [
        {
          "output_type": "execute_result",
          "data": {
            "text/plain": [
              "array([[ 7.34e+01,  2.70e+01,  4.40e-02,  1.80e+00,  8.00e-01],\n",
              "       [ 8.20e+01,  3.27e+01,  3.70e-02, -3.60e+00,  8.00e-01],\n",
              "       [ 8.09e+01,  3.28e+01,  9.30e-02, -1.70e+00,  8.00e-01],\n",
              "       [ 7.35e+01,  3.19e+01,  8.40e-02, -3.20e+00,  8.00e-01],\n",
              "       [ 8.26e+01,  3.44e+01,  1.03e-01,  5.70e+00,  8.00e-01],\n",
              "       [ 7.71e+01,  2.68e+01,  5.70e-02,  0.00e+00,  7.00e-01],\n",
              "       [ 7.49e+01,  2.88e+01,  4.00e-02,  3.10e+00,  8.00e-01],\n",
              "       [ 7.70e+01,  2.85e+01,  4.10e-02, -4.00e+00,  8.00e-01],\n",
              "       [ 7.83e+01,  2.87e+01,  4.00e-02, -2.60e+00,  8.00e-01],\n",
              "       [ 7.57e+01,  2.74e+01,  5.00e-02,  6.30e+00,  8.00e-01],\n",
              "       [ 7.82e+01,  3.38e+01,  8.30e-02,  7.40e+00,  8.00e-01],\n",
              "       [ 7.93e+01,  3.48e+01,  1.19e-01, -3.30e+00,  8.00e-01],\n",
              "       [ 7.66e+01,  4.14e+01,  1.82e-01, -4.50e+00,  8.00e-01],\n",
              "       [ 6.89e+01,  2.74e+01,  4.50e-02, -5.50e+00,  8.00e-01],\n",
              "       [ 7.58e+01,  3.49e+01,  7.80e-02, -1.17e+01,  7.00e-01],\n",
              "       [ 7.33e+01,  3.29e+01,  9.90e-02, -3.90e+00,  8.00e-01],\n",
              "       [ 7.33e+01,  2.97e+01,  7.30e-02, -3.10e+00,  8.00e-01],\n",
              "       [ 6.60e+01,  3.62e+01,  1.62e-01, -1.30e+00,  8.00e-01],\n",
              "       [ 5.83e+01,  4.03e+01,  3.24e-01, -6.80e+00,  6.00e-01],\n",
              "       [ 4.92e+01,  4.08e+01,  4.92e-01, -2.50e+00,  6.00e-01],\n",
              "       [ 7.49e+01,  3.68e+01,  3.69e-01, -1.80e+00,  6.00e-01],\n",
              "       [ 6.72e+01,  4.92e+01,  4.60e-01,  5.00e-01,  5.00e-01],\n",
              "       [ 6.58e+01,  4.80e+01,  2.85e-01, -1.10e+00,  6.00e-01],\n",
              "       [ 6.69e+01,  3.32e+01,  2.34e-01, -1.00e+00,  6.00e-01],\n",
              "       [ 7.71e+01,  3.64e+01,  3.51e-01, -8.00e-01,  6.00e-01],\n",
              "       [ 5.74e+01,  3.98e+01,  3.80e-01, -1.00e+00,  6.00e-01],\n",
              "       [ 6.26e+01,  3.30e+01,  1.62e-01, -1.80e+00,  6.00e-01],\n",
              "       [ 6.60e+01,  4.54e+01,  3.34e-01, -1.40e+00,  6.00e-01],\n",
              "       [ 6.94e+01,  3.64e+01,  3.77e-01, -1.30e+00,  6.00e-01],\n",
              "       [ 5.37e+01,  5.39e+01,  3.86e-01,  5.90e+00,  6.00e-01],\n",
              "       [ 6.92e+01,  5.04e+01,  4.11e-01,  1.60e+00,  6.00e-01],\n",
              "       [ 7.06e+01,  3.44e+01,  2.59e-01, -1.10e+00,  6.00e-01],\n",
              "       [ 4.69e+01,  2.76e+01,  4.43e-01, -1.90e+00,  5.00e-01],\n",
              "       [ 5.88e+01,  3.57e+01,  3.14e-01, -2.00e-01,  7.00e-01],\n",
              "       [ 6.33e+01,  3.95e+01,  4.92e-01, -1.10e+00,  5.00e-01],\n",
              "       [ 6.29e+01,  2.77e+01,  3.81e-01, -5.00e-01,  6.00e-01],\n",
              "       [ 5.62e+01,  4.46e+01,  4.92e-01,  6.42e+01,  5.00e-01],\n",
              "       [ 6.16e+01,  3.86e+01,  3.97e-01, -1.50e+00,  5.00e-01],\n",
              "       [ 5.22e+01,  3.40e+01,  3.77e-01, -4.00e-01,  5.00e-01],\n",
              "       [ 6.40e+01,  4.83e+01,  4.92e-01, -9.00e-01,  5.00e-01],\n",
              "       [ 5.72e+01,  4.62e+01,  4.55e-01,  4.00e-01,  5.00e-01],\n",
              "       [ 5.65e+01,  3.78e+01,  5.01e-01, -8.00e-01,  4.00e-01],\n",
              "       [ 6.09e+01,  5.91e+01,  4.60e-01,  3.60e+00,  4.00e-01],\n",
              "       [ 6.11e+01,  5.21e+01,  4.79e-01, -1.00e-01,  5.00e-01],\n",
              "       [ 5.64e+01,  3.24e+01,  5.36e-01, -4.00e-01,  5.00e-01],\n",
              "       [ 5.84e+01,  4.19e+01,  7.40e-01,  1.90e+00,  4.00e-01],\n",
              "       [ 7.09e+01,  4.37e+01,  4.12e-01, -4.00e-01,  4.00e-01],\n",
              "       [ 6.17e+01,  4.05e+01,  5.39e-01, -3.00e-01,  4.00e-01],\n",
              "       [ 5.95e+01,  4.28e+01,  5.31e-01, -6.00e-01,  4.00e-01],\n",
              "       [ 5.53e+01,  3.26e+01,  6.20e-01,  1.70e+00,  4.00e-01],\n",
              "       [ 5.52e+01,  4.78e+01,  6.13e-01, -5.00e-01,  4.00e-01],\n",
              "       [ 5.45e+01,  4.49e+01,  5.46e-01, -7.00e-01,  4.00e-01],\n",
              "       [ 5.80e+01,  4.03e+01,  5.23e-01, -1.00e-01,  4.00e-01],\n",
              "       [ 5.41e+01,  4.31e+01,  5.66e-01, -6.00e-01,  4.00e-01],\n",
              "       [ 4.50e+01,  3.42e+01,  5.60e-01, -1.00e-01,  4.00e-01],\n",
              "       [ 5.23e+01,  4.11e+01,  6.20e-01, -4.00e-01,  4.00e-01],\n",
              "       [ 5.28e+01,  4.47e+01,  6.15e-01, -2.00e-01,  4.00e-01],\n",
              "       [ 5.36e+01,  3.50e+01,  5.08e-01, -4.00e-01,  4.00e-01]])"
            ]
          },
          "metadata": {
            "tags": []
          },
          "execution_count": 14
        }
      ]
    },
    {
      "cell_type": "code",
      "metadata": {
        "id": "Fk891vzr11XM",
        "colab_type": "code",
        "colab": {
          "base_uri": "https://localhost:8080/",
          "height": 1000
        },
        "outputId": "4e52438c-9ee3-44a9-ac66-e4bb3535757b"
      },
      "source": [
        "from sklearn.preprocessing import MinMaxScaler\n",
        "sc = MinMaxScaler(feature_range = (0, 1))\n",
        "training_set_scaled = sc.fit_transform(training_set)\n",
        "training_set_scaled"
      ],
      "execution_count": 15,
      "outputs": [
        {
          "output_type": "execute_result",
          "data": {
            "text/plain": [
              "array([[0.75531915, 0.00619195, 0.00995733, 0.17786561, 1.        ],\n",
              "       [0.98404255, 0.18266254, 0.        , 0.10671937, 1.        ],\n",
              "       [0.95478723, 0.18575851, 0.07965861, 0.13175231, 1.        ],\n",
              "       [0.75797872, 0.15789474, 0.06685633, 0.11198946, 1.        ],\n",
              "       [1.        , 0.23529412, 0.09388336, 0.22924901, 1.        ],\n",
              "       [0.8537234 , 0.        , 0.0284495 , 0.1541502 , 0.75      ],\n",
              "       [0.79521277, 0.0619195 , 0.00426743, 0.19499341, 1.        ],\n",
              "       [0.85106383, 0.05263158, 0.0056899 , 0.10144928, 1.        ],\n",
              "       [0.8856383 , 0.05882353, 0.00426743, 0.1198946 , 1.        ],\n",
              "       [0.81648936, 0.01857585, 0.01849218, 0.23715415, 1.        ],\n",
              "       [0.88297872, 0.21671827, 0.06543385, 0.2516469 , 1.        ],\n",
              "       [0.91223404, 0.24767802, 0.11664296, 0.11067194, 1.        ],\n",
              "       [0.84042553, 0.45201238, 0.20625889, 0.09486166, 1.        ],\n",
              "       [0.6356383 , 0.01857585, 0.0113798 , 0.08168643, 1.        ],\n",
              "       [0.81914894, 0.25077399, 0.05832148, 0.        , 0.75      ],\n",
              "       [0.75265957, 0.18885449, 0.08819346, 0.1027668 , 1.        ],\n",
              "       [0.75265957, 0.08978328, 0.0512091 , 0.11330698, 1.        ],\n",
              "       [0.55851064, 0.29102167, 0.17780939, 0.1370224 , 1.        ],\n",
              "       [0.3537234 , 0.41795666, 0.40825036, 0.06455863, 0.5       ],\n",
              "       [0.11170213, 0.43343653, 0.64722617, 0.12121212, 0.5       ],\n",
              "       [0.79521277, 0.30959752, 0.47226174, 0.13043478, 0.5       ],\n",
              "       [0.59042553, 0.69349845, 0.60170697, 0.16073781, 0.25      ],\n",
              "       [0.55319149, 0.65634675, 0.35277383, 0.13965744, 0.5       ],\n",
              "       [0.58244681, 0.19814241, 0.2802276 , 0.14097497, 0.5       ],\n",
              "       [0.8537234 , 0.29721362, 0.44665718, 0.14361001, 0.5       ],\n",
              "       [0.32978723, 0.40247678, 0.48790896, 0.14097497, 0.5       ],\n",
              "       [0.46808511, 0.19195046, 0.17780939, 0.13043478, 0.5       ],\n",
              "       [0.55851064, 0.57585139, 0.42247511, 0.13570487, 0.5       ],\n",
              "       [0.64893617, 0.29721362, 0.48364154, 0.1370224 , 0.5       ],\n",
              "       [0.23138298, 0.83900929, 0.49644381, 0.23188406, 0.5       ],\n",
              "       [0.64361702, 0.73065015, 0.53200569, 0.17523057, 0.5       ],\n",
              "       [0.68085106, 0.23529412, 0.31578947, 0.13965744, 0.5       ],\n",
              "       [0.05053191, 0.0247678 , 0.57752489, 0.12911726, 0.25      ],\n",
              "       [0.36702128, 0.2755418 , 0.3940256 , 0.15151515, 0.75      ],\n",
              "       [0.48670213, 0.39318885, 0.64722617, 0.13965744, 0.25      ],\n",
              "       [0.47606383, 0.02786378, 0.48933144, 0.14756258, 0.5       ],\n",
              "       [0.29787234, 0.55108359, 0.64722617, 1.        , 0.25      ],\n",
              "       [0.44148936, 0.36532508, 0.51209104, 0.13438735, 0.25      ],\n",
              "       [0.19148936, 0.22291022, 0.48364154, 0.14888011, 0.25      ],\n",
              "       [0.50531915, 0.66563467, 0.64722617, 0.14229249, 0.25      ],\n",
              "       [0.32446809, 0.6006192 , 0.59459459, 0.15942029, 0.25      ],\n",
              "       [0.30585106, 0.34055728, 0.66002845, 0.14361001, 0.        ],\n",
              "       [0.42287234, 1.        , 0.60170697, 0.20158103, 0.        ],\n",
              "       [0.42819149, 0.78328173, 0.628734  , 0.15283267, 0.25      ],\n",
              "       [0.30319149, 0.17337461, 0.70981508, 0.14888011, 0.25      ],\n",
              "       [0.35638298, 0.46749226, 1.        , 0.17918314, 0.        ],\n",
              "       [0.68882979, 0.52321981, 0.53342817, 0.14888011, 0.        ],\n",
              "       [0.44414894, 0.42414861, 0.7140825 , 0.15019763, 0.        ],\n",
              "       [0.3856383 , 0.49535604, 0.7027027 , 0.14624506, 0.        ],\n",
              "       [0.27393617, 0.17956656, 0.82930299, 0.17654809, 0.        ],\n",
              "       [0.2712766 , 0.6501548 , 0.81934566, 0.14756258, 0.        ],\n",
              "       [0.25265957, 0.56037152, 0.72403983, 0.14492754, 0.        ],\n",
              "       [0.34574468, 0.41795666, 0.6913229 , 0.15283267, 0.        ],\n",
              "       [0.24202128, 0.50464396, 0.75248933, 0.14624506, 0.        ],\n",
              "       [0.        , 0.22910217, 0.74395448, 0.15283267, 0.        ],\n",
              "       [0.19414894, 0.44272446, 0.82930299, 0.14888011, 0.        ],\n",
              "       [0.20744681, 0.55417957, 0.82219061, 0.15151515, 0.        ],\n",
              "       [0.2287234 , 0.25386997, 0.66998578, 0.14888011, 0.        ]])"
            ]
          },
          "metadata": {
            "tags": []
          },
          "execution_count": 15
        }
      ]
    },
    {
      "cell_type": "code",
      "metadata": {
        "id": "sEvxcITz2Spr",
        "colab_type": "code",
        "colab": {
          "base_uri": "https://localhost:8080/",
          "height": 136
        },
        "outputId": "8ec05ca5-e44e-4a67-ef91-28e23e1190ff"
      },
      "source": [
        "target_set = dataset_train.iloc[:, 6].values\n",
        "target_set"
      ],
      "execution_count": 21,
      "outputs": [
        {
          "output_type": "execute_result",
          "data": {
            "text/plain": [
              "array([0.954, 0.946, 0.942, 0.939, 0.938, 0.938, 0.937, 0.934, 0.925,\n",
              "       0.922, 0.922, 0.92 , 0.92 , 0.919, 0.909, 0.915, 0.914, 0.799,\n",
              "       0.799, 0.797, 0.796, 0.795, 0.794, 0.791, 0.786, 0.78 , 0.769,\n",
              "       0.767, 0.765, 0.761, 0.761, 0.76 , 0.759, 0.693, 0.676, 0.674,\n",
              "       0.67 , 0.667, 0.656, 0.651, 0.651, 0.647, 0.645, 0.623, 0.614,\n",
              "       0.543, 0.536, 0.528, 0.528, 0.527, 0.52 , 0.518, 0.514, 0.513,\n",
              "       0.508, 0.503, 0.485, 0.47 ])"
            ]
          },
          "metadata": {
            "tags": []
          },
          "execution_count": 21
        }
      ]
    },
    {
      "cell_type": "code",
      "metadata": {
        "id": "XzuIf-bU36wV",
        "colab_type": "code",
        "colab": {}
      },
      "source": [
        "from sklearn.model_selection import train_test_split\n",
        "X_train, X_test, y_train, y_test = train_test_split(training_set_scaled, target_set, test_size = 0.2, random_state = 0)"
      ],
      "execution_count": 23,
      "outputs": []
    },
    {
      "cell_type": "code",
      "metadata": {
        "id": "OIGJEGpP4H6F",
        "colab_type": "code",
        "colab": {}
      },
      "source": [
        "from sklearn.preprocessing import StandardScaler\n",
        "sc_X = StandardScaler()\n",
        "X_train = sc_X.fit_transform(X_train)\n",
        "X_test = sc_X.transform(X_test)"
      ],
      "execution_count": 24,
      "outputs": []
    },
    {
      "cell_type": "code",
      "metadata": {
        "id": "sm0tycyY4Yie",
        "colab_type": "code",
        "colab": {
          "base_uri": "https://localhost:8080/",
          "height": 34
        },
        "outputId": "df529858-c8ef-4384-f64c-02d367a9ca94"
      },
      "source": [
        "import keras\n",
        "from keras.models import Sequential\n",
        "from keras.layers import Dense\n",
        "from keras.layers import Dropout"
      ],
      "execution_count": 25,
      "outputs": [
        {
          "output_type": "stream",
          "text": [
            "Using TensorFlow backend.\n"
          ],
          "name": "stderr"
        }
      ]
    },
    {
      "cell_type": "code",
      "metadata": {
        "id": "FMX5FgoS6fBp",
        "colab_type": "code",
        "colab": {}
      },
      "source": [
        "#Definición de la arquitectura\n",
        "model = Sequential()\n",
        "model.add(Dense(5, input_dim=5, kernel_initializer='normal',activation='relu'))\n",
        "model.add(Dense(4, kernel_initializer='normal',activation='relu'))\n",
        "model.add(Dense(1, kernel_initializer='normal'))\n",
        "\n",
        "# Compilación del modelo\n",
        "model.compile(loss='mean_squared_error', optimizer='adam',metrics=['mean_absolute_percentage_error'])"
      ],
      "execution_count": 56,
      "outputs": []
    },
    {
      "cell_type": "code",
      "metadata": {
        "id": "Dt9JRSQG5Tmp",
        "colab_type": "code",
        "colab": {
          "base_uri": "https://localhost:8080/",
          "height": 1000
        },
        "outputId": "1f9ddefc-c4c0-42e3-839c-34cf2c36a1f3"
      },
      "source": [
        "model.fit(X_train,y_train, batch_size= 50, epochs= 100)"
      ],
      "execution_count": 57,
      "outputs": [
        {
          "output_type": "stream",
          "text": [
            "Epoch 1/100\n",
            "46/46 [==============================] - 0s 7ms/step - loss: 0.5641 - mean_absolute_percentage_error: 99.9549\n",
            "Epoch 2/100\n",
            "46/46 [==============================] - 0s 101us/step - loss: 0.5623 - mean_absolute_percentage_error: 99.7831\n",
            "Epoch 3/100\n",
            "46/46 [==============================] - 0s 91us/step - loss: 0.5606 - mean_absolute_percentage_error: 99.6102\n",
            "Epoch 4/100\n",
            "46/46 [==============================] - 0s 80us/step - loss: 0.5590 - mean_absolute_percentage_error: 99.4524\n",
            "Epoch 5/100\n",
            "46/46 [==============================] - 0s 79us/step - loss: 0.5573 - mean_absolute_percentage_error: 99.2884\n",
            "Epoch 6/100\n",
            "46/46 [==============================] - 0s 39us/step - loss: 0.5556 - mean_absolute_percentage_error: 99.1197\n",
            "Epoch 7/100\n",
            "46/46 [==============================] - 0s 50us/step - loss: 0.5539 - mean_absolute_percentage_error: 98.9474\n",
            "Epoch 8/100\n",
            "46/46 [==============================] - 0s 27us/step - loss: 0.5522 - mean_absolute_percentage_error: 98.7719\n",
            "Epoch 9/100\n",
            "46/46 [==============================] - 0s 37us/step - loss: 0.5504 - mean_absolute_percentage_error: 98.5910\n",
            "Epoch 10/100\n",
            "46/46 [==============================] - 0s 41us/step - loss: 0.5485 - mean_absolute_percentage_error: 98.4100\n",
            "Epoch 11/100\n",
            "46/46 [==============================] - 0s 43us/step - loss: 0.5467 - mean_absolute_percentage_error: 98.2263\n",
            "Epoch 12/100\n",
            "46/46 [==============================] - 0s 51us/step - loss: 0.5449 - mean_absolute_percentage_error: 98.0400\n",
            "Epoch 13/100\n",
            "46/46 [==============================] - 0s 48us/step - loss: 0.5430 - mean_absolute_percentage_error: 97.8511\n",
            "Epoch 14/100\n",
            "46/46 [==============================] - 0s 44us/step - loss: 0.5411 - mean_absolute_percentage_error: 97.6596\n",
            "Epoch 15/100\n",
            "46/46 [==============================] - 0s 54us/step - loss: 0.5392 - mean_absolute_percentage_error: 97.4655\n",
            "Epoch 16/100\n",
            "46/46 [==============================] - 0s 39us/step - loss: 0.5373 - mean_absolute_percentage_error: 97.2687\n",
            "Epoch 17/100\n",
            "46/46 [==============================] - 0s 36us/step - loss: 0.5353 - mean_absolute_percentage_error: 97.0691\n",
            "Epoch 18/100\n",
            "46/46 [==============================] - 0s 39us/step - loss: 0.5333 - mean_absolute_percentage_error: 96.8667\n",
            "Epoch 19/100\n",
            "46/46 [==============================] - 0s 38us/step - loss: 0.5313 - mean_absolute_percentage_error: 96.6612\n",
            "Epoch 20/100\n",
            "46/46 [==============================] - 0s 39us/step - loss: 0.5293 - mean_absolute_percentage_error: 96.4527\n",
            "Epoch 21/100\n",
            "46/46 [==============================] - 0s 38us/step - loss: 0.5273 - mean_absolute_percentage_error: 96.2410\n",
            "Epoch 22/100\n",
            "46/46 [==============================] - 0s 39us/step - loss: 0.5252 - mean_absolute_percentage_error: 96.0262\n",
            "Epoch 23/100\n",
            "46/46 [==============================] - 0s 32us/step - loss: 0.5231 - mean_absolute_percentage_error: 95.8080\n",
            "Epoch 24/100\n",
            "46/46 [==============================] - 0s 41us/step - loss: 0.5210 - mean_absolute_percentage_error: 95.5863\n",
            "Epoch 25/100\n",
            "46/46 [==============================] - 0s 42us/step - loss: 0.5188 - mean_absolute_percentage_error: 95.3612\n",
            "Epoch 26/100\n",
            "46/46 [==============================] - 0s 58us/step - loss: 0.5166 - mean_absolute_percentage_error: 95.1323\n",
            "Epoch 27/100\n",
            "46/46 [==============================] - 0s 46us/step - loss: 0.5144 - mean_absolute_percentage_error: 94.8996\n",
            "Epoch 28/100\n",
            "46/46 [==============================] - 0s 51us/step - loss: 0.5121 - mean_absolute_percentage_error: 94.6630\n",
            "Epoch 29/100\n",
            "46/46 [==============================] - 0s 67us/step - loss: 0.5099 - mean_absolute_percentage_error: 94.4223\n",
            "Epoch 30/100\n",
            "46/46 [==============================] - 0s 33us/step - loss: 0.5076 - mean_absolute_percentage_error: 94.1773\n",
            "Epoch 31/100\n",
            "46/46 [==============================] - 0s 35us/step - loss: 0.5052 - mean_absolute_percentage_error: 93.9279\n",
            "Epoch 32/100\n",
            "46/46 [==============================] - 0s 36us/step - loss: 0.5028 - mean_absolute_percentage_error: 93.6740\n",
            "Epoch 33/100\n",
            "46/46 [==============================] - 0s 61us/step - loss: 0.5004 - mean_absolute_percentage_error: 93.4154\n",
            "Epoch 34/100\n",
            "46/46 [==============================] - 0s 36us/step - loss: 0.4980 - mean_absolute_percentage_error: 93.1521\n",
            "Epoch 35/100\n",
            "46/46 [==============================] - 0s 44us/step - loss: 0.4955 - mean_absolute_percentage_error: 92.8838\n",
            "Epoch 36/100\n",
            "46/46 [==============================] - 0s 40us/step - loss: 0.4929 - mean_absolute_percentage_error: 92.6105\n",
            "Epoch 37/100\n",
            "46/46 [==============================] - 0s 54us/step - loss: 0.4904 - mean_absolute_percentage_error: 92.3318\n",
            "Epoch 38/100\n",
            "46/46 [==============================] - 0s 38us/step - loss: 0.4877 - mean_absolute_percentage_error: 92.0478\n",
            "Epoch 39/100\n",
            "46/46 [==============================] - 0s 43us/step - loss: 0.4851 - mean_absolute_percentage_error: 91.7582\n",
            "Epoch 40/100\n",
            "46/46 [==============================] - 0s 43us/step - loss: 0.4824 - mean_absolute_percentage_error: 91.4660\n",
            "Epoch 41/100\n",
            "46/46 [==============================] - 0s 31us/step - loss: 0.4797 - mean_absolute_percentage_error: 91.1648\n",
            "Epoch 42/100\n",
            "46/46 [==============================] - 0s 39us/step - loss: 0.4769 - mean_absolute_percentage_error: 90.8576\n",
            "Epoch 43/100\n",
            "46/46 [==============================] - 0s 52us/step - loss: 0.4741 - mean_absolute_percentage_error: 90.5443\n",
            "Epoch 44/100\n",
            "46/46 [==============================] - 0s 77us/step - loss: 0.4712 - mean_absolute_percentage_error: 90.2278\n",
            "Epoch 45/100\n",
            "46/46 [==============================] - 0s 61us/step - loss: 0.4683 - mean_absolute_percentage_error: 89.9016\n",
            "Epoch 46/100\n",
            "46/46 [==============================] - 0s 39us/step - loss: 0.4653 - mean_absolute_percentage_error: 89.5687\n",
            "Epoch 47/100\n",
            "46/46 [==============================] - 0s 58us/step - loss: 0.4623 - mean_absolute_percentage_error: 89.2291\n",
            "Epoch 48/100\n",
            "46/46 [==============================] - 0s 91us/step - loss: 0.4592 - mean_absolute_percentage_error: 88.8822\n",
            "Epoch 49/100\n",
            "46/46 [==============================] - 0s 74us/step - loss: 0.4561 - mean_absolute_percentage_error: 88.5315\n",
            "Epoch 50/100\n",
            "46/46 [==============================] - 0s 31us/step - loss: 0.4530 - mean_absolute_percentage_error: 88.1728\n",
            "Epoch 51/100\n",
            "46/46 [==============================] - 0s 38us/step - loss: 0.4498 - mean_absolute_percentage_error: 87.8066\n",
            "Epoch 52/100\n",
            "46/46 [==============================] - 0s 48us/step - loss: 0.4465 - mean_absolute_percentage_error: 87.4293\n",
            "Epoch 53/100\n",
            "46/46 [==============================] - 0s 81us/step - loss: 0.4432 - mean_absolute_percentage_error: 87.0441\n",
            "Epoch 54/100\n",
            "46/46 [==============================] - 0s 73us/step - loss: 0.4398 - mean_absolute_percentage_error: 86.6543\n",
            "Epoch 55/100\n",
            "46/46 [==============================] - 0s 59us/step - loss: 0.4364 - mean_absolute_percentage_error: 86.2527\n",
            "Epoch 56/100\n",
            "46/46 [==============================] - 0s 53us/step - loss: 0.4329 - mean_absolute_percentage_error: 85.8460\n",
            "Epoch 57/100\n",
            "46/46 [==============================] - 0s 62us/step - loss: 0.4294 - mean_absolute_percentage_error: 85.4309\n",
            "Epoch 58/100\n",
            "46/46 [==============================] - 0s 56us/step - loss: 0.4258 - mean_absolute_percentage_error: 85.0036\n",
            "Epoch 59/100\n",
            "46/46 [==============================] - 0s 44us/step - loss: 0.4221 - mean_absolute_percentage_error: 84.5674\n",
            "Epoch 60/100\n",
            "46/46 [==============================] - 0s 72us/step - loss: 0.4184 - mean_absolute_percentage_error: 84.1222\n",
            "Epoch 61/100\n",
            "46/46 [==============================] - 0s 70us/step - loss: 0.4147 - mean_absolute_percentage_error: 83.6714\n",
            "Epoch 62/100\n",
            "46/46 [==============================] - 0s 54us/step - loss: 0.4108 - mean_absolute_percentage_error: 83.2077\n",
            "Epoch 63/100\n",
            "46/46 [==============================] - 0s 68us/step - loss: 0.4069 - mean_absolute_percentage_error: 82.7345\n",
            "Epoch 64/100\n",
            "46/46 [==============================] - 0s 60us/step - loss: 0.4030 - mean_absolute_percentage_error: 82.2549\n",
            "Epoch 65/100\n",
            "46/46 [==============================] - 0s 57us/step - loss: 0.3990 - mean_absolute_percentage_error: 81.7620\n",
            "Epoch 66/100\n",
            "46/46 [==============================] - 0s 60us/step - loss: 0.3950 - mean_absolute_percentage_error: 81.2591\n",
            "Epoch 67/100\n",
            "46/46 [==============================] - 0s 53us/step - loss: 0.3908 - mean_absolute_percentage_error: 80.7461\n",
            "Epoch 68/100\n",
            "46/46 [==============================] - 0s 62us/step - loss: 0.3867 - mean_absolute_percentage_error: 80.2228\n",
            "Epoch 69/100\n",
            "46/46 [==============================] - 0s 44us/step - loss: 0.3825 - mean_absolute_percentage_error: 79.6929\n",
            "Epoch 70/100\n",
            "46/46 [==============================] - 0s 54us/step - loss: 0.3782 - mean_absolute_percentage_error: 79.1488\n",
            "Epoch 71/100\n",
            "46/46 [==============================] - 0s 39us/step - loss: 0.3739 - mean_absolute_percentage_error: 78.5942\n",
            "Epoch 72/100\n",
            "46/46 [==============================] - 0s 45us/step - loss: 0.3695 - mean_absolute_percentage_error: 78.0326\n",
            "Epoch 73/100\n",
            "46/46 [==============================] - 0s 56us/step - loss: 0.3651 - mean_absolute_percentage_error: 77.4603\n",
            "Epoch 74/100\n",
            "46/46 [==============================] - 0s 67us/step - loss: 0.3606 - mean_absolute_percentage_error: 76.8732\n",
            "Epoch 75/100\n",
            "46/46 [==============================] - 0s 73us/step - loss: 0.3561 - mean_absolute_percentage_error: 76.2752\n",
            "Epoch 76/100\n",
            "46/46 [==============================] - 0s 33us/step - loss: 0.3515 - mean_absolute_percentage_error: 75.6699\n",
            "Epoch 77/100\n",
            "46/46 [==============================] - 0s 35us/step - loss: 0.3469 - mean_absolute_percentage_error: 75.0495\n",
            "Epoch 78/100\n",
            "46/46 [==============================] - 0s 50us/step - loss: 0.3423 - mean_absolute_percentage_error: 74.4217\n",
            "Epoch 79/100\n",
            "46/46 [==============================] - 0s 55us/step - loss: 0.3375 - mean_absolute_percentage_error: 73.7787\n",
            "Epoch 80/100\n",
            "46/46 [==============================] - 0s 41us/step - loss: 0.3328 - mean_absolute_percentage_error: 73.1242\n",
            "Epoch 81/100\n",
            "46/46 [==============================] - 0s 52us/step - loss: 0.3280 - mean_absolute_percentage_error: 72.4583\n",
            "Epoch 82/100\n",
            "46/46 [==============================] - 0s 41us/step - loss: 0.3231 - mean_absolute_percentage_error: 71.7807\n",
            "Epoch 83/100\n",
            "46/46 [==============================] - 0s 34us/step - loss: 0.3182 - mean_absolute_percentage_error: 71.0916\n",
            "Epoch 84/100\n",
            "46/46 [==============================] - 0s 33us/step - loss: 0.3133 - mean_absolute_percentage_error: 70.3909\n",
            "Epoch 85/100\n",
            "46/46 [==============================] - 0s 52us/step - loss: 0.3084 - mean_absolute_percentage_error: 69.6785\n",
            "Epoch 86/100\n",
            "46/46 [==============================] - 0s 38us/step - loss: 0.3034 - mean_absolute_percentage_error: 68.9585\n",
            "Epoch 87/100\n",
            "46/46 [==============================] - 0s 38us/step - loss: 0.2984 - mean_absolute_percentage_error: 68.2271\n",
            "Epoch 88/100\n",
            "46/46 [==============================] - 0s 31us/step - loss: 0.2934 - mean_absolute_percentage_error: 67.4840\n",
            "Epoch 89/100\n",
            "46/46 [==============================] - 0s 35us/step - loss: 0.2884 - mean_absolute_percentage_error: 66.7295\n",
            "Epoch 90/100\n",
            "46/46 [==============================] - 0s 43us/step - loss: 0.2833 - mean_absolute_percentage_error: 65.9593\n",
            "Epoch 91/100\n",
            "46/46 [==============================] - 0s 45us/step - loss: 0.2783 - mean_absolute_percentage_error: 65.1818\n",
            "Epoch 92/100\n",
            "46/46 [==============================] - 0s 42us/step - loss: 0.2731 - mean_absolute_percentage_error: 64.3888\n",
            "Epoch 93/100\n",
            "46/46 [==============================] - 0s 35us/step - loss: 0.2680 - mean_absolute_percentage_error: 63.5845\n",
            "Epoch 94/100\n",
            "46/46 [==============================] - 0s 28us/step - loss: 0.2629 - mean_absolute_percentage_error: 62.7690\n",
            "Epoch 95/100\n",
            "46/46 [==============================] - 0s 61us/step - loss: 0.2577 - mean_absolute_percentage_error: 61.9424\n",
            "Epoch 96/100\n",
            "46/46 [==============================] - 0s 56us/step - loss: 0.2526 - mean_absolute_percentage_error: 61.1049\n",
            "Epoch 97/100\n",
            "46/46 [==============================] - 0s 47us/step - loss: 0.2475 - mean_absolute_percentage_error: 60.2608\n",
            "Epoch 98/100\n",
            "46/46 [==============================] - 0s 77us/step - loss: 0.2424 - mean_absolute_percentage_error: 59.4062\n",
            "Epoch 99/100\n",
            "46/46 [==============================] - 0s 37us/step - loss: 0.2372 - mean_absolute_percentage_error: 58.5370\n",
            "Epoch 100/100\n",
            "46/46 [==============================] - 0s 32us/step - loss: 0.2321 - mean_absolute_percentage_error: 57.6577\n"
          ],
          "name": "stdout"
        },
        {
          "output_type": "execute_result",
          "data": {
            "text/plain": [
              "<keras.callbacks.callbacks.History at 0x7f22872e3fd0>"
            ]
          },
          "metadata": {
            "tags": []
          },
          "execution_count": 57
        }
      ]
    },
    {
      "cell_type": "code",
      "metadata": {
        "id": "Cgu0s6Gn6rj3",
        "colab_type": "code",
        "colab": {
          "base_uri": "https://localhost:8080/",
          "height": 422
        },
        "outputId": "67b92da5-bc50-4a69-9f97-b5edc72d07f7"
      },
      "source": [
        "from keras.utils import plot_model\n",
        "plot_model(model, to_file='model.png',show_shapes=True)"
      ],
      "execution_count": 65,
      "outputs": [
        {
          "output_type": "execute_result",
          "data": {
            "image/png": "[encoded data removed]",
            "text/plain": [
              "<IPython.core.display.Image object>"
            ]
          },
          "metadata": {
            "tags": []
          },
          "execution_count": 65
        }
      ]
    },
    {
      "cell_type": "code",
      "metadata": {
        "id": "ct_GX5qt676O",
        "colab_type": "code",
        "colab": {
          "base_uri": "https://localhost:8080/",
          "height": 241
        },
        "outputId": "1eadbadc-8cf8-47e6-c9ce-6e41621abfdb"
      },
      "source": [
        "#Entrena el modelo\n",
        "x_val = X_train[32:,]\n",
        "y_val = y_train[32:,]\n",
        "#Entrena el modelo\n",
        "model.fit(X_train, y_train, batch_size=32, epochs=5,validation_data=(x_val,y_val))"
      ],
      "execution_count": 63,
      "outputs": [
        {
          "output_type": "stream",
          "text": [
            "Train on 46 samples, validate on 14 samples\n",
            "Epoch 1/5\n",
            "46/46 [==============================] - 0s 743us/step - loss: 0.2055 - mean_absolute_percentage_error: 52.8490 - val_loss: 0.1954 - val_mean_absolute_percentage_error: 49.9586\n",
            "Epoch 2/5\n",
            "46/46 [==============================] - 0s 156us/step - loss: 0.1957 - mean_absolute_percentage_error: 51.0266 - val_loss: 0.1855 - val_mean_absolute_percentage_error: 48.0213\n",
            "Epoch 3/5\n",
            "46/46 [==============================] - 0s 131us/step - loss: 0.1862 - mean_absolute_percentage_error: 49.0922 - val_loss: 0.1760 - val_mean_absolute_percentage_error: 46.0546\n",
            "Epoch 4/5\n",
            "46/46 [==============================] - 0s 138us/step - loss: 0.1769 - mean_absolute_percentage_error: 47.1998 - val_loss: 0.1667 - val_mean_absolute_percentage_error: 44.0724\n",
            "Epoch 5/5\n",
            "46/46 [==============================] - 0s 163us/step - loss: 0.1679 - mean_absolute_percentage_error: 45.4217 - val_loss: 0.1577 - val_mean_absolute_percentage_error: 42.0907\n"
          ],
          "name": "stdout"
        },
        {
          "output_type": "execute_result",
          "data": {
            "text/plain": [
              "<keras.callbacks.callbacks.History at 0x7f2287174a20>"
            ]
          },
          "metadata": {
            "tags": []
          },
          "execution_count": 63
        }
      ]
    },
    {
      "cell_type": "code",
      "metadata": {
        "id": "pqQf0cEE7V-I",
        "colab_type": "code",
        "colab": {
          "base_uri": "https://localhost:8080/",
          "height": 272
        },
        "outputId": "bc407215-47be-4fcf-fab4-e5b94ff1f606"
      },
      "source": [
        "print(model.summary())"
      ],
      "execution_count": 64,
      "outputs": [
        {
          "output_type": "stream",
          "text": [
            "Model: \"sequential_3\"\n",
            "_________________________________________________________________\n",
            "Layer (type)                 Output Shape              Param #   \n",
            "=================================================================\n",
            "dense_19 (Dense)             (None, 5)                 30        \n",
            "_________________________________________________________________\n",
            "dense_20 (Dense)             (None, 4)                 24        \n",
            "_________________________________________________________________\n",
            "dense_21 (Dense)             (None, 1)                 5         \n",
            "=================================================================\n",
            "Total params: 59\n",
            "Trainable params: 59\n",
            "Non-trainable params: 0\n",
            "_________________________________________________________________\n",
            "None\n"
          ],
          "name": "stdout"
        }
      ]
    },
    {
      "cell_type": "code",
      "metadata": {
        "id": "4--VAhvP7gmv",
        "colab_type": "code",
        "colab": {
          "base_uri": "https://localhost:8080/",
          "height": 68
        },
        "outputId": "558c84b9-aa5f-41ba-f24f-54db0912f6f7"
      },
      "source": [
        "results = model.evaluate(X_test, y_test)\n",
        "\n",
        "for i in range(len(model.metrics_names)):\n",
        "  print(model.metrics_names[i],\" : \", results[i])"
      ],
      "execution_count": 67,
      "outputs": [
        {
          "output_type": "stream",
          "text": [
            "\r12/12 [==============================] - 0s 195us/step\n",
            "loss  :  0.18572761118412018\n",
            "mean_absolute_percentage_error  :  48.53327560424805\n"
          ],
          "name": "stdout"
        }
      ]
    },
    {
      "cell_type": "code",
      "metadata": {
        "id": "QUtyPQ7xyBl5",
        "colab_type": "code",
        "colab": {
          "base_uri": "https://localhost:8080/",
          "height": 1000
        },
        "outputId": "4877c4b4-a3c1-4312-ccce-7be56c9830c9"
      },
      "source": [
        "model.fit(X_train, y_train, batch_size=32, epochs=100,validation_data=(x_val,y_val))"
      ],
      "execution_count": 69,
      "outputs": [
        {
          "output_type": "stream",
          "text": [
            "Train on 46 samples, validate on 14 samples\n",
            "Epoch 1/100\n",
            "46/46 [==============================] - 0s 290us/step - loss: 0.1588 - mean_absolute_percentage_error: 43.6322 - val_loss: 0.1491 - val_mean_absolute_percentage_error: 40.4507\n",
            "Epoch 2/100\n",
            "46/46 [==============================] - 0s 159us/step - loss: 0.1503 - mean_absolute_percentage_error: 42.1666 - val_loss: 0.1407 - val_mean_absolute_percentage_error: 38.9624\n",
            "Epoch 3/100\n",
            "46/46 [==============================] - 0s 175us/step - loss: 0.1417 - mean_absolute_percentage_error: 40.6264 - val_loss: 0.1327 - val_mean_absolute_percentage_error: 37.9405\n",
            "Epoch 4/100\n",
            "46/46 [==============================] - 0s 150us/step - loss: 0.1343 - mean_absolute_percentage_error: 39.7817 - val_loss: 0.1250 - val_mean_absolute_percentage_error: 37.0071\n",
            "Epoch 5/100\n",
            "46/46 [==============================] - 0s 134us/step - loss: 0.1260 - mean_absolute_percentage_error: 38.5738 - val_loss: 0.1176 - val_mean_absolute_percentage_error: 36.3247\n",
            "Epoch 6/100\n",
            "46/46 [==============================] - 0s 135us/step - loss: 0.1188 - mean_absolute_percentage_error: 37.7521 - val_loss: 0.1106 - val_mean_absolute_percentage_error: 35.6201\n",
            "Epoch 7/100\n",
            "46/46 [==============================] - 0s 159us/step - loss: 0.1118 - mean_absolute_percentage_error: 36.8793 - val_loss: 0.1038 - val_mean_absolute_percentage_error: 34.8979\n",
            "Epoch 8/100\n",
            "46/46 [==============================] - 0s 201us/step - loss: 0.1050 - mean_absolute_percentage_error: 36.0498 - val_loss: 0.0975 - val_mean_absolute_percentage_error: 34.1671\n",
            "Epoch 9/100\n",
            "46/46 [==============================] - 0s 143us/step - loss: 0.0992 - mean_absolute_percentage_error: 35.5514 - val_loss: 0.0915 - val_mean_absolute_percentage_error: 33.4292\n",
            "Epoch 10/100\n",
            "46/46 [==============================] - 0s 152us/step - loss: 0.0929 - mean_absolute_percentage_error: 34.9079 - val_loss: 0.0860 - val_mean_absolute_percentage_error: 32.9993\n",
            "Epoch 11/100\n",
            "46/46 [==============================] - 0s 166us/step - loss: 0.0872 - mean_absolute_percentage_error: 34.2214 - val_loss: 0.0808 - val_mean_absolute_percentage_error: 32.5466\n",
            "Epoch 12/100\n",
            "46/46 [==============================] - 0s 175us/step - loss: 0.0822 - mean_absolute_percentage_error: 33.7068 - val_loss: 0.0760 - val_mean_absolute_percentage_error: 32.0653\n",
            "Epoch 13/100\n",
            "46/46 [==============================] - 0s 168us/step - loss: 0.0775 - mean_absolute_percentage_error: 33.0774 - val_loss: 0.0714 - val_mean_absolute_percentage_error: 31.5495\n",
            "Epoch 14/100\n",
            "46/46 [==============================] - 0s 174us/step - loss: 0.0728 - mean_absolute_percentage_error: 32.4592 - val_loss: 0.0671 - val_mean_absolute_percentage_error: 31.0132\n",
            "Epoch 15/100\n",
            "46/46 [==============================] - 0s 156us/step - loss: 0.0687 - mean_absolute_percentage_error: 31.8144 - val_loss: 0.0632 - val_mean_absolute_percentage_error: 30.4547\n",
            "Epoch 16/100\n",
            "46/46 [==============================] - 0s 142us/step - loss: 0.0645 - mean_absolute_percentage_error: 31.1096 - val_loss: 0.0595 - val_mean_absolute_percentage_error: 29.8880\n",
            "Epoch 17/100\n",
            "46/46 [==============================] - 0s 178us/step - loss: 0.0612 - mean_absolute_percentage_error: 30.5823 - val_loss: 0.0559 - val_mean_absolute_percentage_error: 29.2952\n",
            "Epoch 18/100\n",
            "46/46 [==============================] - 0s 148us/step - loss: 0.0576 - mean_absolute_percentage_error: 29.9490 - val_loss: 0.0527 - val_mean_absolute_percentage_error: 28.6998\n",
            "Epoch 19/100\n",
            "46/46 [==============================] - 0s 137us/step - loss: 0.0546 - mean_absolute_percentage_error: 29.3574 - val_loss: 0.0497 - val_mean_absolute_percentage_error: 28.0845\n",
            "Epoch 20/100\n",
            "46/46 [==============================] - 0s 134us/step - loss: 0.0516 - mean_absolute_percentage_error: 28.6943 - val_loss: 0.0468 - val_mean_absolute_percentage_error: 27.4532\n",
            "Epoch 21/100\n",
            "46/46 [==============================] - 0s 137us/step - loss: 0.0490 - mean_absolute_percentage_error: 28.0847 - val_loss: 0.0442 - val_mean_absolute_percentage_error: 26.8293\n",
            "Epoch 22/100\n",
            "46/46 [==============================] - 0s 130us/step - loss: 0.0464 - mean_absolute_percentage_error: 27.4325 - val_loss: 0.0418 - val_mean_absolute_percentage_error: 26.2133\n",
            "Epoch 23/100\n",
            "46/46 [==============================] - 0s 157us/step - loss: 0.0440 - mean_absolute_percentage_error: 26.7872 - val_loss: 0.0395 - val_mean_absolute_percentage_error: 25.5897\n",
            "Epoch 24/100\n",
            "46/46 [==============================] - 0s 130us/step - loss: 0.0419 - mean_absolute_percentage_error: 26.1650 - val_loss: 0.0374 - val_mean_absolute_percentage_error: 24.9629\n",
            "Epoch 25/100\n",
            "46/46 [==============================] - 0s 157us/step - loss: 0.0399 - mean_absolute_percentage_error: 25.5079 - val_loss: 0.0355 - val_mean_absolute_percentage_error: 24.3483\n",
            "Epoch 26/100\n",
            "46/46 [==============================] - 0s 140us/step - loss: 0.0382 - mean_absolute_percentage_error: 24.9408 - val_loss: 0.0337 - val_mean_absolute_percentage_error: 23.7454\n",
            "Epoch 27/100\n",
            "46/46 [==============================] - 0s 342us/step - loss: 0.0365 - mean_absolute_percentage_error: 24.3607 - val_loss: 0.0321 - val_mean_absolute_percentage_error: 23.1544\n",
            "Epoch 28/100\n",
            "46/46 [==============================] - 0s 155us/step - loss: 0.0349 - mean_absolute_percentage_error: 23.6902 - val_loss: 0.0306 - val_mean_absolute_percentage_error: 22.5796\n",
            "Epoch 29/100\n",
            "46/46 [==============================] - 0s 165us/step - loss: 0.0335 - mean_absolute_percentage_error: 23.1418 - val_loss: 0.0293 - val_mean_absolute_percentage_error: 22.0192\n",
            "Epoch 30/100\n",
            "46/46 [==============================] - 0s 187us/step - loss: 0.0324 - mean_absolute_percentage_error: 22.5959 - val_loss: 0.0280 - val_mean_absolute_percentage_error: 21.4735\n",
            "Epoch 31/100\n",
            "46/46 [==============================] - 0s 187us/step - loss: 0.0313 - mean_absolute_percentage_error: 22.1349 - val_loss: 0.0270 - val_mean_absolute_percentage_error: 20.9584\n",
            "Epoch 32/100\n",
            "46/46 [==============================] - 0s 138us/step - loss: 0.0302 - mean_absolute_percentage_error: 21.7355 - val_loss: 0.0260 - val_mean_absolute_percentage_error: 20.4663\n",
            "Epoch 33/100\n",
            "46/46 [==============================] - 0s 147us/step - loss: 0.0293 - mean_absolute_percentage_error: 21.3588 - val_loss: 0.0251 - val_mean_absolute_percentage_error: 19.9939\n",
            "Epoch 34/100\n",
            "46/46 [==============================] - 0s 163us/step - loss: 0.0285 - mean_absolute_percentage_error: 21.0479 - val_loss: 0.0243 - val_mean_absolute_percentage_error: 19.5377\n",
            "Epoch 35/100\n",
            "46/46 [==============================] - 0s 154us/step - loss: 0.0278 - mean_absolute_percentage_error: 20.7645 - val_loss: 0.0236 - val_mean_absolute_percentage_error: 19.1003\n",
            "Epoch 36/100\n",
            "46/46 [==============================] - 0s 175us/step - loss: 0.0272 - mean_absolute_percentage_error: 20.4988 - val_loss: 0.0229 - val_mean_absolute_percentage_error: 18.6795\n",
            "Epoch 37/100\n",
            "46/46 [==============================] - 0s 155us/step - loss: 0.0266 - mean_absolute_percentage_error: 20.3064 - val_loss: 0.0223 - val_mean_absolute_percentage_error: 18.2791\n",
            "Epoch 38/100\n",
            "46/46 [==============================] - 0s 137us/step - loss: 0.0261 - mean_absolute_percentage_error: 20.0483 - val_loss: 0.0218 - val_mean_absolute_percentage_error: 17.9040\n",
            "Epoch 39/100\n",
            "46/46 [==============================] - 0s 131us/step - loss: 0.0256 - mean_absolute_percentage_error: 19.8500 - val_loss: 0.0213 - val_mean_absolute_percentage_error: 17.5480\n",
            "Epoch 40/100\n",
            "46/46 [==============================] - 0s 139us/step - loss: 0.0252 - mean_absolute_percentage_error: 19.6470 - val_loss: 0.0209 - val_mean_absolute_percentage_error: 17.2220\n",
            "Epoch 41/100\n",
            "46/46 [==============================] - 0s 159us/step - loss: 0.0248 - mean_absolute_percentage_error: 19.4475 - val_loss: 0.0205 - val_mean_absolute_percentage_error: 16.9813\n",
            "Epoch 42/100\n",
            "46/46 [==============================] - 0s 187us/step - loss: 0.0245 - mean_absolute_percentage_error: 19.2867 - val_loss: 0.0202 - val_mean_absolute_percentage_error: 16.7931\n",
            "Epoch 43/100\n",
            "46/46 [==============================] - 0s 161us/step - loss: 0.0241 - mean_absolute_percentage_error: 19.1511 - val_loss: 0.0199 - val_mean_absolute_percentage_error: 16.6542\n",
            "Epoch 44/100\n",
            "46/46 [==============================] - 0s 182us/step - loss: 0.0239 - mean_absolute_percentage_error: 19.0362 - val_loss: 0.0196 - val_mean_absolute_percentage_error: 16.5329\n",
            "Epoch 45/100\n",
            "46/46 [==============================] - 0s 196us/step - loss: 0.0236 - mean_absolute_percentage_error: 18.9293 - val_loss: 0.0194 - val_mean_absolute_percentage_error: 16.4347\n",
            "Epoch 46/100\n",
            "46/46 [==============================] - 0s 159us/step - loss: 0.0233 - mean_absolute_percentage_error: 18.8571 - val_loss: 0.0191 - val_mean_absolute_percentage_error: 16.3265\n",
            "Epoch 47/100\n",
            "46/46 [==============================] - 0s 157us/step - loss: 0.0231 - mean_absolute_percentage_error: 18.7672 - val_loss: 0.0189 - val_mean_absolute_percentage_error: 16.2222\n",
            "Epoch 48/100\n",
            "46/46 [==============================] - 0s 148us/step - loss: 0.0228 - mean_absolute_percentage_error: 18.6767 - val_loss: 0.0187 - val_mean_absolute_percentage_error: 16.1136\n",
            "Epoch 49/100\n",
            "46/46 [==============================] - 0s 153us/step - loss: 0.0226 - mean_absolute_percentage_error: 18.6192 - val_loss: 0.0185 - val_mean_absolute_percentage_error: 16.0108\n",
            "Epoch 50/100\n",
            "46/46 [==============================] - 0s 146us/step - loss: 0.0224 - mean_absolute_percentage_error: 18.5220 - val_loss: 0.0183 - val_mean_absolute_percentage_error: 15.9185\n",
            "Epoch 51/100\n",
            "46/46 [==============================] - 0s 146us/step - loss: 0.0222 - mean_absolute_percentage_error: 18.4451 - val_loss: 0.0181 - val_mean_absolute_percentage_error: 15.8447\n",
            "Epoch 52/100\n",
            "46/46 [==============================] - 0s 156us/step - loss: 0.0220 - mean_absolute_percentage_error: 18.3676 - val_loss: 0.0180 - val_mean_absolute_percentage_error: 15.7545\n",
            "Epoch 53/100\n",
            "46/46 [==============================] - 0s 147us/step - loss: 0.0217 - mean_absolute_percentage_error: 18.2658 - val_loss: 0.0178 - val_mean_absolute_percentage_error: 15.6607\n",
            "Epoch 54/100\n",
            "46/46 [==============================] - 0s 141us/step - loss: 0.0216 - mean_absolute_percentage_error: 18.1787 - val_loss: 0.0177 - val_mean_absolute_percentage_error: 15.5660\n",
            "Epoch 55/100\n",
            "46/46 [==============================] - 0s 149us/step - loss: 0.0214 - mean_absolute_percentage_error: 18.0873 - val_loss: 0.0176 - val_mean_absolute_percentage_error: 15.4791\n",
            "Epoch 56/100\n",
            "46/46 [==============================] - 0s 141us/step - loss: 0.0212 - mean_absolute_percentage_error: 18.0028 - val_loss: 0.0174 - val_mean_absolute_percentage_error: 15.3920\n",
            "Epoch 57/100\n",
            "46/46 [==============================] - 0s 138us/step - loss: 0.0210 - mean_absolute_percentage_error: 17.9272 - val_loss: 0.0173 - val_mean_absolute_percentage_error: 15.3296\n",
            "Epoch 58/100\n",
            "46/46 [==============================] - 0s 141us/step - loss: 0.0208 - mean_absolute_percentage_error: 17.8412 - val_loss: 0.0172 - val_mean_absolute_percentage_error: 15.2755\n",
            "Epoch 59/100\n",
            "46/46 [==============================] - 0s 142us/step - loss: 0.0206 - mean_absolute_percentage_error: 17.7702 - val_loss: 0.0171 - val_mean_absolute_percentage_error: 15.2238\n",
            "Epoch 60/100\n",
            "46/46 [==============================] - 0s 137us/step - loss: 0.0205 - mean_absolute_percentage_error: 17.7019 - val_loss: 0.0169 - val_mean_absolute_percentage_error: 15.1710\n",
            "Epoch 61/100\n",
            "46/46 [==============================] - 0s 136us/step - loss: 0.0203 - mean_absolute_percentage_error: 17.6323 - val_loss: 0.0168 - val_mean_absolute_percentage_error: 15.1128\n",
            "Epoch 62/100\n",
            "46/46 [==============================] - 0s 140us/step - loss: 0.0201 - mean_absolute_percentage_error: 17.5521 - val_loss: 0.0167 - val_mean_absolute_percentage_error: 15.0516\n",
            "Epoch 63/100\n",
            "46/46 [==============================] - 0s 143us/step - loss: 0.0199 - mean_absolute_percentage_error: 17.4703 - val_loss: 0.0166 - val_mean_absolute_percentage_error: 14.9877\n",
            "Epoch 64/100\n",
            "46/46 [==============================] - 0s 179us/step - loss: 0.0198 - mean_absolute_percentage_error: 17.3838 - val_loss: 0.0165 - val_mean_absolute_percentage_error: 14.9250\n",
            "Epoch 65/100\n",
            "46/46 [==============================] - 0s 136us/step - loss: 0.0196 - mean_absolute_percentage_error: 17.2941 - val_loss: 0.0164 - val_mean_absolute_percentage_error: 14.8632\n",
            "Epoch 66/100\n",
            "46/46 [==============================] - 0s 134us/step - loss: 0.0194 - mean_absolute_percentage_error: 17.2107 - val_loss: 0.0163 - val_mean_absolute_percentage_error: 14.8023\n",
            "Epoch 67/100\n",
            "46/46 [==============================] - 0s 156us/step - loss: 0.0193 - mean_absolute_percentage_error: 17.1329 - val_loss: 0.0161 - val_mean_absolute_percentage_error: 14.7362\n",
            "Epoch 68/100\n",
            "46/46 [==============================] - 0s 234us/step - loss: 0.0191 - mean_absolute_percentage_error: 17.0470 - val_loss: 0.0160 - val_mean_absolute_percentage_error: 14.6796\n",
            "Epoch 69/100\n",
            "46/46 [==============================] - 0s 160us/step - loss: 0.0189 - mean_absolute_percentage_error: 16.9749 - val_loss: 0.0159 - val_mean_absolute_percentage_error: 14.6218\n",
            "Epoch 70/100\n",
            "46/46 [==============================] - 0s 164us/step - loss: 0.0188 - mean_absolute_percentage_error: 16.8992 - val_loss: 0.0158 - val_mean_absolute_percentage_error: 14.5664\n",
            "Epoch 71/100\n",
            "46/46 [==============================] - 0s 179us/step - loss: 0.0186 - mean_absolute_percentage_error: 16.8398 - val_loss: 0.0156 - val_mean_absolute_percentage_error: 14.5136\n",
            "Epoch 72/100\n",
            "46/46 [==============================] - 0s 164us/step - loss: 0.0184 - mean_absolute_percentage_error: 16.7724 - val_loss: 0.0155 - val_mean_absolute_percentage_error: 14.4563\n",
            "Epoch 73/100\n",
            "46/46 [==============================] - 0s 151us/step - loss: 0.0183 - mean_absolute_percentage_error: 16.7011 - val_loss: 0.0154 - val_mean_absolute_percentage_error: 14.3990\n",
            "Epoch 74/100\n",
            "46/46 [==============================] - 0s 149us/step - loss: 0.0181 - mean_absolute_percentage_error: 16.6380 - val_loss: 0.0153 - val_mean_absolute_percentage_error: 14.3432\n",
            "Epoch 75/100\n",
            "46/46 [==============================] - 0s 157us/step - loss: 0.0179 - mean_absolute_percentage_error: 16.5758 - val_loss: 0.0152 - val_mean_absolute_percentage_error: 14.2816\n",
            "Epoch 76/100\n",
            "46/46 [==============================] - 0s 151us/step - loss: 0.0178 - mean_absolute_percentage_error: 16.5026 - val_loss: 0.0150 - val_mean_absolute_percentage_error: 14.2165\n",
            "Epoch 77/100\n",
            "46/46 [==============================] - 0s 153us/step - loss: 0.0176 - mean_absolute_percentage_error: 16.4262 - val_loss: 0.0149 - val_mean_absolute_percentage_error: 14.1520\n",
            "Epoch 78/100\n",
            "46/46 [==============================] - 0s 154us/step - loss: 0.0175 - mean_absolute_percentage_error: 16.3631 - val_loss: 0.0148 - val_mean_absolute_percentage_error: 14.0910\n",
            "Epoch 79/100\n",
            "46/46 [==============================] - 0s 144us/step - loss: 0.0173 - mean_absolute_percentage_error: 16.2879 - val_loss: 0.0147 - val_mean_absolute_percentage_error: 14.0245\n",
            "Epoch 80/100\n",
            "46/46 [==============================] - 0s 141us/step - loss: 0.0171 - mean_absolute_percentage_error: 16.2037 - val_loss: 0.0146 - val_mean_absolute_percentage_error: 13.9522\n",
            "Epoch 81/100\n",
            "46/46 [==============================] - 0s 149us/step - loss: 0.0170 - mean_absolute_percentage_error: 16.1242 - val_loss: 0.0145 - val_mean_absolute_percentage_error: 13.8783\n",
            "Epoch 82/100\n",
            "46/46 [==============================] - 0s 149us/step - loss: 0.0168 - mean_absolute_percentage_error: 16.0392 - val_loss: 0.0144 - val_mean_absolute_percentage_error: 13.8079\n",
            "Epoch 83/100\n",
            "46/46 [==============================] - 0s 143us/step - loss: 0.0167 - mean_absolute_percentage_error: 15.9586 - val_loss: 0.0143 - val_mean_absolute_percentage_error: 13.7413\n",
            "Epoch 84/100\n",
            "46/46 [==============================] - 0s 147us/step - loss: 0.0165 - mean_absolute_percentage_error: 15.8895 - val_loss: 0.0142 - val_mean_absolute_percentage_error: 13.6759\n",
            "Epoch 85/100\n",
            "46/46 [==============================] - 0s 150us/step - loss: 0.0164 - mean_absolute_percentage_error: 15.8128 - val_loss: 0.0141 - val_mean_absolute_percentage_error: 13.6081\n",
            "Epoch 86/100\n",
            "46/46 [==============================] - 0s 151us/step - loss: 0.0162 - mean_absolute_percentage_error: 15.7392 - val_loss: 0.0140 - val_mean_absolute_percentage_error: 13.5408\n",
            "Epoch 87/100\n",
            "46/46 [==============================] - 0s 154us/step - loss: 0.0161 - mean_absolute_percentage_error: 15.6650 - val_loss: 0.0138 - val_mean_absolute_percentage_error: 13.4715\n",
            "Epoch 88/100\n",
            "46/46 [==============================] - 0s 162us/step - loss: 0.0159 - mean_absolute_percentage_error: 15.5870 - val_loss: 0.0137 - val_mean_absolute_percentage_error: 13.4074\n",
            "Epoch 89/100\n",
            "46/46 [==============================] - 0s 144us/step - loss: 0.0158 - mean_absolute_percentage_error: 15.5160 - val_loss: 0.0136 - val_mean_absolute_percentage_error: 13.3441\n",
            "Epoch 90/100\n",
            "46/46 [==============================] - 0s 147us/step - loss: 0.0156 - mean_absolute_percentage_error: 15.4385 - val_loss: 0.0135 - val_mean_absolute_percentage_error: 13.2734\n",
            "Epoch 91/100\n",
            "46/46 [==============================] - 0s 160us/step - loss: 0.0155 - mean_absolute_percentage_error: 15.3587 - val_loss: 0.0134 - val_mean_absolute_percentage_error: 13.2004\n",
            "Epoch 92/100\n",
            "46/46 [==============================] - 0s 135us/step - loss: 0.0153 - mean_absolute_percentage_error: 15.2855 - val_loss: 0.0133 - val_mean_absolute_percentage_error: 13.1354\n",
            "Epoch 93/100\n",
            "46/46 [==============================] - 0s 153us/step - loss: 0.0152 - mean_absolute_percentage_error: 15.2024 - val_loss: 0.0132 - val_mean_absolute_percentage_error: 13.0826\n",
            "Epoch 94/100\n",
            "46/46 [==============================] - 0s 151us/step - loss: 0.0151 - mean_absolute_percentage_error: 15.1388 - val_loss: 0.0131 - val_mean_absolute_percentage_error: 13.0389\n",
            "Epoch 95/100\n",
            "46/46 [==============================] - 0s 154us/step - loss: 0.0149 - mean_absolute_percentage_error: 15.0766 - val_loss: 0.0130 - val_mean_absolute_percentage_error: 12.9969\n",
            "Epoch 96/100\n",
            "46/46 [==============================] - 0s 157us/step - loss: 0.0148 - mean_absolute_percentage_error: 15.0042 - val_loss: 0.0130 - val_mean_absolute_percentage_error: 12.9563\n",
            "Epoch 97/100\n",
            "46/46 [==============================] - 0s 150us/step - loss: 0.0146 - mean_absolute_percentage_error: 14.9358 - val_loss: 0.0129 - val_mean_absolute_percentage_error: 12.9137\n",
            "Epoch 98/100\n",
            "46/46 [==============================] - 0s 364us/step - loss: 0.0145 - mean_absolute_percentage_error: 14.8697 - val_loss: 0.0128 - val_mean_absolute_percentage_error: 12.8705\n",
            "Epoch 99/100\n",
            "46/46 [==============================] - 0s 129us/step - loss: 0.0144 - mean_absolute_percentage_error: 14.8152 - val_loss: 0.0127 - val_mean_absolute_percentage_error: 12.8276\n",
            "Epoch 100/100\n",
            "46/46 [==============================] - 0s 145us/step - loss: 0.0142 - mean_absolute_percentage_error: 14.7560 - val_loss: 0.0126 - val_mean_absolute_percentage_error: 12.7855\n"
          ],
          "name": "stdout"
        },
        {
          "output_type": "execute_result",
          "data": {
            "text/plain": [
              "<keras.callbacks.callbacks.History at 0x7f22872e3cf8>"
            ]
          },
          "metadata": {
            "tags": []
          },
          "execution_count": 69
        }
      ]
    },
    {
      "cell_type": "code",
      "metadata": {
        "id": "QrM-su0d7yNJ",
        "colab_type": "code",
        "colab": {
          "base_uri": "https://localhost:8080/",
          "height": 68
        },
        "outputId": "3254ba7a-19b6-4544-f2ed-c0180156b2a1"
      },
      "source": [
        "results = model.evaluate(X_test, y_test)\n",
        "\n",
        "for i in range(len(model.metrics_names)):\n",
        "  print(model.metrics_names[i],\" : \", results[i])"
      ],
      "execution_count": 70,
      "outputs": [
        {
          "output_type": "stream",
          "text": [
            "\r12/12 [==============================] - 0s 107us/step\n",
            "loss  :  0.01646183431148529\n",
            "mean_absolute_percentage_error  :  14.582061767578125\n"
          ],
          "name": "stdout"
        }
      ]
    },
    {
      "cell_type": "code",
      "metadata": {
        "id": "oremsq3g8Dl5",
        "colab_type": "code",
        "colab": {
          "base_uri": "https://localhost:8080/",
          "height": 791
        },
        "outputId": "1dbf6ff8-706c-4e1c-82ae-d084a4604a4a"
      },
      "source": [
        "history = model.fit(X_train, y_train, batch_size=32, epochs=200,validation_data=(x_val,y_val), verbose=0)\n",
        "# Plot training & validation accuracy values\n",
        "plt.figure(figsize=(13,6))\n",
        "plt.plot(history.history['mean_absolute_percentage_error'])\n",
        "plt.plot(history.history['val_mean_absolute_percentage_error'])\n",
        "plt.title('Model mean_absolute_percentage_error')\n",
        "plt.ylabel('MAPE %')\n",
        "plt.xlabel('Epoch')\n",
        "plt.legend(['Train', 'Test'], loc='upper right')\n",
        "plt.show()\n",
        "\n",
        "# Plot training & validation loss values\n",
        "plt.figure(figsize=(13,6))\n",
        "plt.plot(history.history['loss'])\n",
        "plt.plot(history.history['val_loss'])\n",
        "plt.title('Model loss')\n",
        "plt.ylabel('Loss')\n",
        "plt.xlabel('Epoch')\n",
        "plt.legend(['Train', 'Test'], loc='upper right')\n",
        "plt.show()"
      ],
      "execution_count": 71,
      "outputs": [
        {
          "output_type": "display_data",
          "data": {
            "image/png": "[encoded data removed]",
            "text/plain": [
              "<Figure size 936x432 with 1 Axes>"
            ]
          },
          "metadata": {
            "tags": [],
            "needs_background": "light"
          }
        },
        {
          "output_type": "display_data",
          "data": {
            "image/png": "[encoded data removed]",
            "text/plain": [
              "<Figure size 936x432 with 1 Axes>"
            ]
          },
          "metadata": {
            "tags": [],
            "needs_background": "light"
          }
        }
      ]
    }
  ]
}