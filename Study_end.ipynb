{
  "nbformat": 4,
  "nbformat_minor": 0,
  "metadata": {
    "colab": {
      "name": "Untitled23.ipynb",
      "provenance": [],
      "authorship_tag": "ABX9TyOntMf5i7yF/HbjOxm8xiGM",
      "include_colab_link": true
    },
    "kernelspec": {
      "name": "python3",
      "display_name": "Python 3"
    }
  },
  "cells": [
    {
      "cell_type": "markdown",
      "metadata": {
        "id": "view-in-github",
        "colab_type": "text"
      },
      "source": [
        "<a href=\"https://colab.research.google.com/github/QU01/Human-Development-ANN/blob/master/Study_end.ipynb\" target=\"_parent\"><img src=\"https://colab.research.google.com/assets/colab-badge.svg\" alt=\"Open In Colab\"/></a>"
      ]
    },
    {
      "cell_type": "code",
      "metadata": {
        "id": "G7dHywbdxd4G",
        "colab_type": "code",
        "colab": {}
      },
      "source": [
        "import numpy as np\n",
        "import pandas as pd\n",
        "import matplotlib.pyplot as plt"
      ],
      "execution_count": 1,
      "outputs": []
    },
    {
      "cell_type": "code",
      "metadata": {
        "id": "T88ILpUCxj5n",
        "colab_type": "code",
        "colab": {
          "base_uri": "https://localhost:8080/",
          "height": 204
        },
        "outputId": "f8b6313f-5732-4989-cb58-28fb4af00484"
      },
      "source": [
        "dataset_train = pd.read_csv(\"Lifelevelsparameters.csv\", encoding= 'unicode_escape')\n",
        "dataset_train.head()"
      ],
      "execution_count": 2,
      "outputs": [
        {
          "output_type": "execute_result",
          "data": {
            "text/html": [
              "<div>\n",
              "<style scoped>\n",
              "    .dataframe tbody tr th:only-of-type {\n",
              "        vertical-align: middle;\n",
              "    }\n",
              "\n",
              "    .dataframe tbody tr th {\n",
              "        vertical-align: top;\n",
              "    }\n",
              "\n",
              "    .dataframe thead th {\n",
              "        text-align: right;\n",
              "    }\n",
              "</style>\n",
              "<table border=\"1\" class=\"dataframe\">\n",
              "  <thead>\n",
              "    <tr style=\"text-align: right;\">\n",
              "      <th></th>\n",
              "      <th>Country</th>\n",
              "      <th>IEF</th>\n",
              "      <th>Gini</th>\n",
              "      <th>GII</th>\n",
              "      <th>Biocapacity-Footprint</th>\n",
              "      <th>HCI</th>\n",
              "      <th>HDI</th>\n",
              "    </tr>\n",
              "  </thead>\n",
              "  <tbody>\n",
              "    <tr>\n",
              "      <th>0</th>\n",
              "      <td>Norway</td>\n",
              "      <td>73.4</td>\n",
              "      <td>27.0</td>\n",
              "      <td>0.044</td>\n",
              "      <td>1.8</td>\n",
              "      <td>0.8</td>\n",
              "      <td>0.954</td>\n",
              "    </tr>\n",
              "    <tr>\n",
              "      <th>1</th>\n",
              "      <td>Switzerland</td>\n",
              "      <td>82.0</td>\n",
              "      <td>32.7</td>\n",
              "      <td>0.037</td>\n",
              "      <td>-3.6</td>\n",
              "      <td>0.8</td>\n",
              "      <td>0.946</td>\n",
              "    </tr>\n",
              "    <tr>\n",
              "      <th>2</th>\n",
              "      <td>Ireland</td>\n",
              "      <td>80.9</td>\n",
              "      <td>32.8</td>\n",
              "      <td>0.093</td>\n",
              "      <td>-1.7</td>\n",
              "      <td>0.8</td>\n",
              "      <td>0.942</td>\n",
              "    </tr>\n",
              "    <tr>\n",
              "      <th>3</th>\n",
              "      <td>Germany</td>\n",
              "      <td>73.5</td>\n",
              "      <td>31.9</td>\n",
              "      <td>0.084</td>\n",
              "      <td>-3.2</td>\n",
              "      <td>0.8</td>\n",
              "      <td>0.939</td>\n",
              "    </tr>\n",
              "    <tr>\n",
              "      <th>4</th>\n",
              "      <td>Australia</td>\n",
              "      <td>82.6</td>\n",
              "      <td>34.4</td>\n",
              "      <td>0.103</td>\n",
              "      <td>5.7</td>\n",
              "      <td>0.8</td>\n",
              "      <td>0.938</td>\n",
              "    </tr>\n",
              "  </tbody>\n",
              "</table>\n",
              "</div>"
            ],
            "text/plain": [
              "        Country   IEF  Gini    GII  Biocapacity-Footprint  HCI    HDI\n",
              "0       Norway   73.4  27.0  0.044                    1.8  0.8  0.954\n",
              "1  Switzerland   82.0  32.7  0.037                   -3.6  0.8  0.946\n",
              "2      Ireland   80.9  32.8  0.093                   -1.7  0.8  0.942\n",
              "3      Germany   73.5  31.9  0.084                   -3.2  0.8  0.939\n",
              "4    Australia   82.6  34.4  0.103                    5.7  0.8  0.938"
            ]
          },
          "metadata": {
            "tags": []
          },
          "execution_count": 2
        }
      ]
    },
    {
      "cell_type": "code",
      "metadata": {
        "id": "9NfSg-HW1qy-",
        "colab_type": "code",
        "colab": {
          "base_uri": "https://localhost:8080/",
          "height": 1000
        },
        "outputId": "18e80e96-c1c0-4800-b922-fae72b0a84f5"
      },
      "source": [
        "training_set  = dataset_train.iloc[:, 1:6].values\n",
        "training_set"
      ],
      "execution_count": 3,
      "outputs": [
        {
          "output_type": "execute_result",
          "data": {
            "text/plain": [
              "array([[ 7.34e+01,  2.70e+01,  4.40e-02,  1.80e+00,  8.00e-01],\n",
              "       [ 8.20e+01,  3.27e+01,  3.70e-02, -3.60e+00,  8.00e-01],\n",
              "       [ 8.09e+01,  3.28e+01,  9.30e-02, -1.70e+00,  8.00e-01],\n",
              "       [ 7.35e+01,  3.19e+01,  8.40e-02, -3.20e+00,  8.00e-01],\n",
              "       [ 8.26e+01,  3.44e+01,  1.03e-01,  5.70e+00,  8.00e-01],\n",
              "       [ 7.71e+01,  2.68e+01,  5.70e-02,  0.00e+00,  7.00e-01],\n",
              "       [ 7.49e+01,  2.88e+01,  4.00e-02,  3.10e+00,  8.00e-01],\n",
              "       [ 7.70e+01,  2.85e+01,  4.10e-02, -4.00e+00,  8.00e-01],\n",
              "       [ 7.83e+01,  2.87e+01,  4.00e-02, -2.60e+00,  8.00e-01],\n",
              "       [ 7.57e+01,  2.74e+01,  5.00e-02,  6.30e+00,  8.00e-01],\n",
              "       [ 7.82e+01,  3.38e+01,  8.30e-02,  7.40e+00,  8.00e-01],\n",
              "       [ 7.93e+01,  3.48e+01,  1.19e-01, -3.30e+00,  8.00e-01],\n",
              "       [ 7.66e+01,  4.14e+01,  1.82e-01, -4.50e+00,  8.00e-01],\n",
              "       [ 6.89e+01,  2.74e+01,  4.50e-02, -5.50e+00,  8.00e-01],\n",
              "       [ 7.58e+01,  3.49e+01,  7.80e-02, -1.17e+01,  7.00e-01],\n",
              "       [ 7.33e+01,  3.29e+01,  9.90e-02, -3.90e+00,  8.00e-01],\n",
              "       [ 7.33e+01,  2.97e+01,  7.30e-02, -3.10e+00,  8.00e-01],\n",
              "       [ 6.60e+01,  3.62e+01,  1.62e-01, -1.30e+00,  8.00e-01],\n",
              "       [ 5.83e+01,  4.03e+01,  3.24e-01, -6.80e+00,  6.00e-01],\n",
              "       [ 4.92e+01,  4.08e+01,  4.92e-01, -2.50e+00,  6.00e-01],\n",
              "       [ 7.49e+01,  3.68e+01,  3.69e-01, -1.80e+00,  6.00e-01],\n",
              "       [ 6.72e+01,  4.92e+01,  4.60e-01,  5.00e-01,  5.00e-01],\n",
              "       [ 6.58e+01,  4.80e+01,  2.85e-01, -1.10e+00,  6.00e-01],\n",
              "       [ 6.69e+01,  3.32e+01,  2.34e-01, -1.00e+00,  6.00e-01],\n",
              "       [ 7.71e+01,  3.64e+01,  3.51e-01, -8.00e-01,  6.00e-01],\n",
              "       [ 5.74e+01,  3.98e+01,  3.80e-01, -1.00e+00,  6.00e-01],\n",
              "       [ 6.26e+01,  3.30e+01,  1.62e-01, -1.80e+00,  6.00e-01],\n",
              "       [ 6.60e+01,  4.54e+01,  3.34e-01, -1.40e+00,  6.00e-01],\n",
              "       [ 6.94e+01,  3.64e+01,  3.77e-01, -1.30e+00,  6.00e-01],\n",
              "       [ 5.37e+01,  5.39e+01,  3.86e-01,  5.90e+00,  6.00e-01],\n",
              "       [ 6.92e+01,  5.04e+01,  4.11e-01,  1.60e+00,  6.00e-01],\n",
              "       [ 7.06e+01,  3.44e+01,  2.59e-01, -1.10e+00,  6.00e-01],\n",
              "       [ 4.69e+01,  2.76e+01,  4.43e-01, -1.90e+00,  5.00e-01],\n",
              "       [ 5.88e+01,  3.57e+01,  3.14e-01, -2.00e-01,  7.00e-01],\n",
              "       [ 6.33e+01,  3.95e+01,  4.92e-01, -1.10e+00,  5.00e-01],\n",
              "       [ 6.29e+01,  2.77e+01,  3.81e-01, -5.00e-01,  6.00e-01],\n",
              "       [ 5.62e+01,  4.46e+01,  4.92e-01,  6.42e+01,  5.00e-01],\n",
              "       [ 6.16e+01,  3.86e+01,  3.97e-01, -1.50e+00,  5.00e-01],\n",
              "       [ 5.22e+01,  3.40e+01,  3.77e-01, -4.00e-01,  5.00e-01],\n",
              "       [ 6.40e+01,  4.83e+01,  4.92e-01, -9.00e-01,  5.00e-01],\n",
              "       [ 5.72e+01,  4.62e+01,  4.55e-01,  4.00e-01,  5.00e-01],\n",
              "       [ 5.65e+01,  3.78e+01,  5.01e-01, -8.00e-01,  4.00e-01],\n",
              "       [ 6.09e+01,  5.91e+01,  4.60e-01,  3.60e+00,  4.00e-01],\n",
              "       [ 6.11e+01,  5.21e+01,  4.79e-01, -1.00e-01,  5.00e-01],\n",
              "       [ 5.64e+01,  3.24e+01,  5.36e-01, -4.00e-01,  5.00e-01],\n",
              "       [ 5.84e+01,  4.19e+01,  7.40e-01,  1.90e+00,  4.00e-01],\n",
              "       [ 7.09e+01,  4.37e+01,  4.12e-01, -4.00e-01,  4.00e-01],\n",
              "       [ 6.17e+01,  4.05e+01,  5.39e-01, -3.00e-01,  4.00e-01],\n",
              "       [ 5.95e+01,  4.28e+01,  5.31e-01, -6.00e-01,  4.00e-01],\n",
              "       [ 5.53e+01,  3.26e+01,  6.20e-01,  1.70e+00,  4.00e-01],\n",
              "       [ 5.52e+01,  4.78e+01,  6.13e-01, -5.00e-01,  4.00e-01],\n",
              "       [ 5.45e+01,  4.49e+01,  5.46e-01, -7.00e-01,  4.00e-01],\n",
              "       [ 5.80e+01,  4.03e+01,  5.23e-01, -1.00e-01,  4.00e-01],\n",
              "       [ 5.41e+01,  4.31e+01,  5.66e-01, -6.00e-01,  4.00e-01],\n",
              "       [ 4.50e+01,  3.42e+01,  5.60e-01, -1.00e-01,  4.00e-01],\n",
              "       [ 5.23e+01,  4.11e+01,  6.20e-01, -4.00e-01,  4.00e-01],\n",
              "       [ 5.28e+01,  4.47e+01,  6.15e-01, -2.00e-01,  4.00e-01],\n",
              "       [ 5.36e+01,  3.50e+01,  5.08e-01, -4.00e-01,  4.00e-01]])"
            ]
          },
          "metadata": {
            "tags": []
          },
          "execution_count": 3
        }
      ]
    },
    {
      "cell_type": "code",
      "metadata": {
        "id": "Fk891vzr11XM",
        "colab_type": "code",
        "colab": {
          "base_uri": "https://localhost:8080/",
          "height": 1000
        },
        "outputId": "53090f50-c36c-4594-cd4f-01ae20344658"
      },
      "source": [
        "from sklearn.preprocessing import MinMaxScaler\n",
        "sc = MinMaxScaler(feature_range = (0, 1))\n",
        "training_set_scaled = sc.fit_transform(training_set)\n",
        "training_set_scaled"
      ],
      "execution_count": 4,
      "outputs": [
        {
          "output_type": "execute_result",
          "data": {
            "text/plain": [
              "array([[0.75531915, 0.00619195, 0.00995733, 0.17786561, 1.        ],\n",
              "       [0.98404255, 0.18266254, 0.        , 0.10671937, 1.        ],\n",
              "       [0.95478723, 0.18575851, 0.07965861, 0.13175231, 1.        ],\n",
              "       [0.75797872, 0.15789474, 0.06685633, 0.11198946, 1.        ],\n",
              "       [1.        , 0.23529412, 0.09388336, 0.22924901, 1.        ],\n",
              "       [0.8537234 , 0.        , 0.0284495 , 0.1541502 , 0.75      ],\n",
              "       [0.79521277, 0.0619195 , 0.00426743, 0.19499341, 1.        ],\n",
              "       [0.85106383, 0.05263158, 0.0056899 , 0.10144928, 1.        ],\n",
              "       [0.8856383 , 0.05882353, 0.00426743, 0.1198946 , 1.        ],\n",
              "       [0.81648936, 0.01857585, 0.01849218, 0.23715415, 1.        ],\n",
              "       [0.88297872, 0.21671827, 0.06543385, 0.2516469 , 1.        ],\n",
              "       [0.91223404, 0.24767802, 0.11664296, 0.11067194, 1.        ],\n",
              "       [0.84042553, 0.45201238, 0.20625889, 0.09486166, 1.        ],\n",
              "       [0.6356383 , 0.01857585, 0.0113798 , 0.08168643, 1.        ],\n",
              "       [0.81914894, 0.25077399, 0.05832148, 0.        , 0.75      ],\n",
              "       [0.75265957, 0.18885449, 0.08819346, 0.1027668 , 1.        ],\n",
              "       [0.75265957, 0.08978328, 0.0512091 , 0.11330698, 1.        ],\n",
              "       [0.55851064, 0.29102167, 0.17780939, 0.1370224 , 1.        ],\n",
              "       [0.3537234 , 0.41795666, 0.40825036, 0.06455863, 0.5       ],\n",
              "       [0.11170213, 0.43343653, 0.64722617, 0.12121212, 0.5       ],\n",
              "       [0.79521277, 0.30959752, 0.47226174, 0.13043478, 0.5       ],\n",
              "       [0.59042553, 0.69349845, 0.60170697, 0.16073781, 0.25      ],\n",
              "       [0.55319149, 0.65634675, 0.35277383, 0.13965744, 0.5       ],\n",
              "       [0.58244681, 0.19814241, 0.2802276 , 0.14097497, 0.5       ],\n",
              "       [0.8537234 , 0.29721362, 0.44665718, 0.14361001, 0.5       ],\n",
              "       [0.32978723, 0.40247678, 0.48790896, 0.14097497, 0.5       ],\n",
              "       [0.46808511, 0.19195046, 0.17780939, 0.13043478, 0.5       ],\n",
              "       [0.55851064, 0.57585139, 0.42247511, 0.13570487, 0.5       ],\n",
              "       [0.64893617, 0.29721362, 0.48364154, 0.1370224 , 0.5       ],\n",
              "       [0.23138298, 0.83900929, 0.49644381, 0.23188406, 0.5       ],\n",
              "       [0.64361702, 0.73065015, 0.53200569, 0.17523057, 0.5       ],\n",
              "       [0.68085106, 0.23529412, 0.31578947, 0.13965744, 0.5       ],\n",
              "       [0.05053191, 0.0247678 , 0.57752489, 0.12911726, 0.25      ],\n",
              "       [0.36702128, 0.2755418 , 0.3940256 , 0.15151515, 0.75      ],\n",
              "       [0.48670213, 0.39318885, 0.64722617, 0.13965744, 0.25      ],\n",
              "       [0.47606383, 0.02786378, 0.48933144, 0.14756258, 0.5       ],\n",
              "       [0.29787234, 0.55108359, 0.64722617, 1.        , 0.25      ],\n",
              "       [0.44148936, 0.36532508, 0.51209104, 0.13438735, 0.25      ],\n",
              "       [0.19148936, 0.22291022, 0.48364154, 0.14888011, 0.25      ],\n",
              "       [0.50531915, 0.66563467, 0.64722617, 0.14229249, 0.25      ],\n",
              "       [0.32446809, 0.6006192 , 0.59459459, 0.15942029, 0.25      ],\n",
              "       [0.30585106, 0.34055728, 0.66002845, 0.14361001, 0.        ],\n",
              "       [0.42287234, 1.        , 0.60170697, 0.20158103, 0.        ],\n",
              "       [0.42819149, 0.78328173, 0.628734  , 0.15283267, 0.25      ],\n",
              "       [0.30319149, 0.17337461, 0.70981508, 0.14888011, 0.25      ],\n",
              "       [0.35638298, 0.46749226, 1.        , 0.17918314, 0.        ],\n",
              "       [0.68882979, 0.52321981, 0.53342817, 0.14888011, 0.        ],\n",
              "       [0.44414894, 0.42414861, 0.7140825 , 0.15019763, 0.        ],\n",
              "       [0.3856383 , 0.49535604, 0.7027027 , 0.14624506, 0.        ],\n",
              "       [0.27393617, 0.17956656, 0.82930299, 0.17654809, 0.        ],\n",
              "       [0.2712766 , 0.6501548 , 0.81934566, 0.14756258, 0.        ],\n",
              "       [0.25265957, 0.56037152, 0.72403983, 0.14492754, 0.        ],\n",
              "       [0.34574468, 0.41795666, 0.6913229 , 0.15283267, 0.        ],\n",
              "       [0.24202128, 0.50464396, 0.75248933, 0.14624506, 0.        ],\n",
              "       [0.        , 0.22910217, 0.74395448, 0.15283267, 0.        ],\n",
              "       [0.19414894, 0.44272446, 0.82930299, 0.14888011, 0.        ],\n",
              "       [0.20744681, 0.55417957, 0.82219061, 0.15151515, 0.        ],\n",
              "       [0.2287234 , 0.25386997, 0.66998578, 0.14888011, 0.        ]])"
            ]
          },
          "metadata": {
            "tags": []
          },
          "execution_count": 4
        }
      ]
    },
    {
      "cell_type": "code",
      "metadata": {
        "id": "sEvxcITz2Spr",
        "colab_type": "code",
        "colab": {
          "base_uri": "https://localhost:8080/",
          "height": 136
        },
        "outputId": "d9f33743-fd66-4799-c2fb-be380f562cd6"
      },
      "source": [
        "target_set = dataset_train.iloc[:, 6].values\n",
        "target_set"
      ],
      "execution_count": 5,
      "outputs": [
        {
          "output_type": "execute_result",
          "data": {
            "text/plain": [
              "array([0.954, 0.946, 0.942, 0.939, 0.938, 0.938, 0.937, 0.934, 0.925,\n",
              "       0.922, 0.922, 0.92 , 0.92 , 0.919, 0.909, 0.915, 0.914, 0.799,\n",
              "       0.799, 0.797, 0.796, 0.795, 0.794, 0.791, 0.786, 0.78 , 0.769,\n",
              "       0.767, 0.765, 0.761, 0.761, 0.76 , 0.759, 0.693, 0.676, 0.674,\n",
              "       0.67 , 0.667, 0.656, 0.651, 0.651, 0.647, 0.645, 0.623, 0.614,\n",
              "       0.543, 0.536, 0.528, 0.528, 0.527, 0.52 , 0.518, 0.514, 0.513,\n",
              "       0.508, 0.503, 0.485, 0.47 ])"
            ]
          },
          "metadata": {
            "tags": []
          },
          "execution_count": 5
        }
      ]
    },
    {
      "cell_type": "code",
      "metadata": {
        "id": "XzuIf-bU36wV",
        "colab_type": "code",
        "colab": {}
      },
      "source": [
        "from sklearn.model_selection import train_test_split\n",
        "X_train, X_test, y_train, y_test = train_test_split(training_set_scaled, target_set, test_size = 0.2, random_state = 0)"
      ],
      "execution_count": 6,
      "outputs": []
    },
    {
      "cell_type": "code",
      "metadata": {
        "id": "OIGJEGpP4H6F",
        "colab_type": "code",
        "colab": {}
      },
      "source": [
        "from sklearn.preprocessing import StandardScaler\n",
        "sc_X = StandardScaler()\n",
        "X_train = sc_X.fit_transform(X_train)\n",
        "X_test = sc_X.transform(X_test)"
      ],
      "execution_count": 7,
      "outputs": []
    },
    {
      "cell_type": "code",
      "metadata": {
        "id": "sm0tycyY4Yie",
        "colab_type": "code",
        "colab": {
          "base_uri": "https://localhost:8080/",
          "height": 34
        },
        "outputId": "363fd09a-4fc8-4e8e-e6f5-5e481e2a4b24"
      },
      "source": [
        "import keras\n",
        "from keras.models import Sequential\n",
        "from keras.layers import Dense\n",
        "from keras.layers import Dropout"
      ],
      "execution_count": 8,
      "outputs": [
        {
          "output_type": "stream",
          "text": [
            "Using TensorFlow backend.\n"
          ],
          "name": "stderr"
        }
      ]
    },
    {
      "cell_type": "code",
      "metadata": {
        "id": "FMX5FgoS6fBp",
        "colab_type": "code",
        "colab": {}
      },
      "source": [
        "#Definición de la arquitectura\n",
        "model = Sequential()\n",
        "model.add(Dense(5, input_dim=5, kernel_initializer='normal',activation='relu'))\n",
        "model.add(Dense(4, kernel_initializer='normal',activation='relu'))\n",
        "model.add(Dense(1, kernel_initializer='normal'))\n",
        "\n",
        "# Compilación del modelo\n",
        "model.compile(loss='mean_squared_error', optimizer='adam',metrics=['mean_absolute_percentage_error'])"
      ],
      "execution_count": 9,
      "outputs": []
    },
    {
      "cell_type": "code",
      "metadata": {
        "id": "Dt9JRSQG5Tmp",
        "colab_type": "code",
        "colab": {
          "base_uri": "https://localhost:8080/",
          "height": 1000
        },
        "outputId": "80326228-c772-4462-c562-860d66e7ab72"
      },
      "source": [
        "model.fit(X_train,y_train, batch_size= 50, epochs= 100)"
      ],
      "execution_count": 10,
      "outputs": [
        {
          "output_type": "stream",
          "text": [
            "Epoch 1/100\n",
            "46/46 [==============================] - 0s 6ms/step - loss: 0.5638 - mean_absolute_percentage_error: 99.9417\n",
            "Epoch 2/100\n",
            "46/46 [==============================] - 0s 90us/step - loss: 0.5622 - mean_absolute_percentage_error: 99.7843\n",
            "Epoch 3/100\n",
            "46/46 [==============================] - 0s 31us/step - loss: 0.5608 - mean_absolute_percentage_error: 99.6469\n",
            "Epoch 4/100\n",
            "46/46 [==============================] - 0s 67us/step - loss: 0.5593 - mean_absolute_percentage_error: 99.4988\n",
            "Epoch 5/100\n",
            "46/46 [==============================] - 0s 70us/step - loss: 0.5577 - mean_absolute_percentage_error: 99.3435\n",
            "Epoch 6/100\n",
            "46/46 [==============================] - 0s 64us/step - loss: 0.5560 - mean_absolute_percentage_error: 99.1759\n",
            "Epoch 7/100\n",
            "46/46 [==============================] - 0s 60us/step - loss: 0.5542 - mean_absolute_percentage_error: 99.0064\n",
            "Epoch 8/100\n",
            "46/46 [==============================] - 0s 24us/step - loss: 0.5525 - mean_absolute_percentage_error: 98.8381\n",
            "Epoch 9/100\n",
            "46/46 [==============================] - 0s 74us/step - loss: 0.5508 - mean_absolute_percentage_error: 98.6665\n",
            "Epoch 10/100\n",
            "46/46 [==============================] - 0s 61us/step - loss: 0.5490 - mean_absolute_percentage_error: 98.4899\n",
            "Epoch 11/100\n",
            "46/46 [==============================] - 0s 65us/step - loss: 0.5472 - mean_absolute_percentage_error: 98.3121\n",
            "Epoch 12/100\n",
            "46/46 [==============================] - 0s 67us/step - loss: 0.5454 - mean_absolute_percentage_error: 98.1317\n",
            "Epoch 13/100\n",
            "46/46 [==============================] - 0s 63us/step - loss: 0.5435 - mean_absolute_percentage_error: 97.9489\n",
            "Epoch 14/100\n",
            "46/46 [==============================] - 0s 61us/step - loss: 0.5417 - mean_absolute_percentage_error: 97.7637\n",
            "Epoch 15/100\n",
            "46/46 [==============================] - 0s 58us/step - loss: 0.5398 - mean_absolute_percentage_error: 97.5770\n",
            "Epoch 16/100\n",
            "46/46 [==============================] - 0s 33us/step - loss: 0.5379 - mean_absolute_percentage_error: 97.3869\n",
            "Epoch 17/100\n",
            "46/46 [==============================] - 0s 34us/step - loss: 0.5359 - mean_absolute_percentage_error: 97.1942\n",
            "Epoch 18/100\n",
            "46/46 [==============================] - 0s 34us/step - loss: 0.5340 - mean_absolute_percentage_error: 96.9988\n",
            "Epoch 19/100\n",
            "46/46 [==============================] - 0s 33us/step - loss: 0.5320 - mean_absolute_percentage_error: 96.8008\n",
            "Epoch 20/100\n",
            "46/46 [==============================] - 0s 32us/step - loss: 0.5300 - mean_absolute_percentage_error: 96.6001\n",
            "Epoch 21/100\n",
            "46/46 [==============================] - 0s 30us/step - loss: 0.5280 - mean_absolute_percentage_error: 96.3967\n",
            "Epoch 22/100\n",
            "46/46 [==============================] - 0s 30us/step - loss: 0.5259 - mean_absolute_percentage_error: 96.1905\n",
            "Epoch 23/100\n",
            "46/46 [==============================] - 0s 30us/step - loss: 0.5238 - mean_absolute_percentage_error: 95.9813\n",
            "Epoch 24/100\n",
            "46/46 [==============================] - 0s 30us/step - loss: 0.5217 - mean_absolute_percentage_error: 95.7684\n",
            "Epoch 25/100\n",
            "46/46 [==============================] - 0s 33us/step - loss: 0.5196 - mean_absolute_percentage_error: 95.5522\n",
            "Epoch 26/100\n",
            "46/46 [==============================] - 0s 31us/step - loss: 0.5175 - mean_absolute_percentage_error: 95.3353\n",
            "Epoch 27/100\n",
            "46/46 [==============================] - 0s 28us/step - loss: 0.5153 - mean_absolute_percentage_error: 95.1126\n",
            "Epoch 28/100\n",
            "46/46 [==============================] - 0s 30us/step - loss: 0.5130 - mean_absolute_percentage_error: 94.8864\n",
            "Epoch 29/100\n",
            "46/46 [==============================] - 0s 26us/step - loss: 0.5108 - mean_absolute_percentage_error: 94.6567\n",
            "Epoch 30/100\n",
            "46/46 [==============================] - 0s 26us/step - loss: 0.5085 - mean_absolute_percentage_error: 94.4234\n",
            "Epoch 31/100\n",
            "46/46 [==============================] - 0s 33us/step - loss: 0.5062 - mean_absolute_percentage_error: 94.1864\n",
            "Epoch 32/100\n",
            "46/46 [==============================] - 0s 30us/step - loss: 0.5039 - mean_absolute_percentage_error: 93.9456\n",
            "Epoch 33/100\n",
            "46/46 [==============================] - 0s 26us/step - loss: 0.5015 - mean_absolute_percentage_error: 93.7008\n",
            "Epoch 34/100\n",
            "46/46 [==============================] - 0s 28us/step - loss: 0.4991 - mean_absolute_percentage_error: 93.4519\n",
            "Epoch 35/100\n",
            "46/46 [==============================] - 0s 27us/step - loss: 0.4966 - mean_absolute_percentage_error: 93.1988\n",
            "Epoch 36/100\n",
            "46/46 [==============================] - 0s 30us/step - loss: 0.4941 - mean_absolute_percentage_error: 92.9414\n",
            "Epoch 37/100\n",
            "46/46 [==============================] - 0s 26us/step - loss: 0.4916 - mean_absolute_percentage_error: 92.6795\n",
            "Epoch 38/100\n",
            "46/46 [==============================] - 0s 31us/step - loss: 0.4890 - mean_absolute_percentage_error: 92.4130\n",
            "Epoch 39/100\n",
            "46/46 [==============================] - 0s 28us/step - loss: 0.4865 - mean_absolute_percentage_error: 92.1418\n",
            "Epoch 40/100\n",
            "46/46 [==============================] - 0s 30us/step - loss: 0.4838 - mean_absolute_percentage_error: 91.8657\n",
            "Epoch 41/100\n",
            "46/46 [==============================] - 0s 30us/step - loss: 0.4811 - mean_absolute_percentage_error: 91.5846\n",
            "Epoch 42/100\n",
            "46/46 [==============================] - 0s 31us/step - loss: 0.4784 - mean_absolute_percentage_error: 91.2984\n",
            "Epoch 43/100\n",
            "46/46 [==============================] - 0s 31us/step - loss: 0.4757 - mean_absolute_percentage_error: 91.0099\n",
            "Epoch 44/100\n",
            "46/46 [==============================] - 0s 29us/step - loss: 0.4729 - mean_absolute_percentage_error: 90.7131\n",
            "Epoch 45/100\n",
            "46/46 [==============================] - 0s 29us/step - loss: 0.4700 - mean_absolute_percentage_error: 90.4107\n",
            "Epoch 46/100\n",
            "46/46 [==============================] - 0s 30us/step - loss: 0.4671 - mean_absolute_percentage_error: 90.1026\n",
            "Epoch 47/100\n",
            "46/46 [==============================] - 0s 31us/step - loss: 0.4642 - mean_absolute_percentage_error: 89.7887\n",
            "Epoch 48/100\n",
            "46/46 [==============================] - 0s 29us/step - loss: 0.4612 - mean_absolute_percentage_error: 89.4688\n",
            "Epoch 49/100\n",
            "46/46 [==============================] - 0s 35us/step - loss: 0.4582 - mean_absolute_percentage_error: 89.1429\n",
            "Epoch 50/100\n",
            "46/46 [==============================] - 0s 31us/step - loss: 0.4551 - mean_absolute_percentage_error: 88.8105\n",
            "Epoch 51/100\n",
            "46/46 [==============================] - 0s 31us/step - loss: 0.4520 - mean_absolute_percentage_error: 88.4718\n",
            "Epoch 52/100\n",
            "46/46 [==============================] - 0s 29us/step - loss: 0.4488 - mean_absolute_percentage_error: 88.1263\n",
            "Epoch 53/100\n",
            "46/46 [==============================] - 0s 29us/step - loss: 0.4455 - mean_absolute_percentage_error: 87.7738\n",
            "Epoch 54/100\n",
            "46/46 [==============================] - 0s 31us/step - loss: 0.4423 - mean_absolute_percentage_error: 87.4142\n",
            "Epoch 55/100\n",
            "46/46 [==============================] - 0s 30us/step - loss: 0.4389 - mean_absolute_percentage_error: 87.0472\n",
            "Epoch 56/100\n",
            "46/46 [==============================] - 0s 29us/step - loss: 0.4355 - mean_absolute_percentage_error: 86.6724\n",
            "Epoch 57/100\n",
            "46/46 [==============================] - 0s 28us/step - loss: 0.4321 - mean_absolute_percentage_error: 86.2901\n",
            "Epoch 58/100\n",
            "46/46 [==============================] - 0s 29us/step - loss: 0.4286 - mean_absolute_percentage_error: 85.9000\n",
            "Epoch 59/100\n",
            "46/46 [==============================] - 0s 29us/step - loss: 0.4250 - mean_absolute_percentage_error: 85.5020\n",
            "Epoch 60/100\n",
            "46/46 [==============================] - 0s 29us/step - loss: 0.4214 - mean_absolute_percentage_error: 85.0960\n",
            "Epoch 61/100\n",
            "46/46 [==============================] - 0s 28us/step - loss: 0.4178 - mean_absolute_percentage_error: 84.6819\n",
            "Epoch 62/100\n",
            "46/46 [==============================] - 0s 31us/step - loss: 0.4140 - mean_absolute_percentage_error: 84.2593\n",
            "Epoch 63/100\n",
            "46/46 [==============================] - 0s 38us/step - loss: 0.4103 - mean_absolute_percentage_error: 83.8281\n",
            "Epoch 64/100\n",
            "46/46 [==============================] - 0s 33us/step - loss: 0.4064 - mean_absolute_percentage_error: 83.3882\n",
            "Epoch 65/100\n",
            "46/46 [==============================] - 0s 31us/step - loss: 0.4025 - mean_absolute_percentage_error: 82.9393\n",
            "Epoch 66/100\n",
            "46/46 [==============================] - 0s 39us/step - loss: 0.3986 - mean_absolute_percentage_error: 82.4816\n",
            "Epoch 67/100\n",
            "46/46 [==============================] - 0s 41us/step - loss: 0.3946 - mean_absolute_percentage_error: 82.0147\n",
            "Epoch 68/100\n",
            "46/46 [==============================] - 0s 31us/step - loss: 0.3906 - mean_absolute_percentage_error: 81.5417\n",
            "Epoch 69/100\n",
            "46/46 [==============================] - 0s 29us/step - loss: 0.3864 - mean_absolute_percentage_error: 81.0559\n",
            "Epoch 70/100\n",
            "46/46 [==============================] - 0s 37us/step - loss: 0.3823 - mean_absolute_percentage_error: 80.5604\n",
            "Epoch 71/100\n",
            "46/46 [==============================] - 0s 37us/step - loss: 0.3781 - mean_absolute_percentage_error: 80.0587\n",
            "Epoch 72/100\n",
            "46/46 [==============================] - 0s 33us/step - loss: 0.3738 - mean_absolute_percentage_error: 79.5438\n",
            "Epoch 73/100\n",
            "46/46 [==============================] - 0s 30us/step - loss: 0.3695 - mean_absolute_percentage_error: 79.0185\n",
            "Epoch 74/100\n",
            "46/46 [==============================] - 0s 42us/step - loss: 0.3651 - mean_absolute_percentage_error: 78.4829\n",
            "Epoch 75/100\n",
            "46/46 [==============================] - 0s 34us/step - loss: 0.3606 - mean_absolute_percentage_error: 77.9371\n",
            "Epoch 76/100\n",
            "46/46 [==============================] - 0s 51us/step - loss: 0.3561 - mean_absolute_percentage_error: 77.3808\n",
            "Epoch 77/100\n",
            "46/46 [==============================] - 0s 43us/step - loss: 0.3516 - mean_absolute_percentage_error: 76.8176\n",
            "Epoch 78/100\n",
            "46/46 [==============================] - 0s 28us/step - loss: 0.3470 - mean_absolute_percentage_error: 76.2404\n",
            "Epoch 79/100\n",
            "46/46 [==============================] - 0s 29us/step - loss: 0.3424 - mean_absolute_percentage_error: 75.6525\n",
            "Epoch 80/100\n",
            "46/46 [==============================] - 0s 35us/step - loss: 0.3377 - mean_absolute_percentage_error: 75.0538\n",
            "Epoch 81/100\n",
            "46/46 [==============================] - 0s 31us/step - loss: 0.3330 - mean_absolute_percentage_error: 74.4435\n",
            "Epoch 82/100\n",
            "46/46 [==============================] - 0s 33us/step - loss: 0.3282 - mean_absolute_percentage_error: 73.8220\n",
            "Epoch 83/100\n",
            "46/46 [==============================] - 0s 44us/step - loss: 0.3234 - mean_absolute_percentage_error: 73.1894\n",
            "Epoch 84/100\n",
            "46/46 [==============================] - 0s 33us/step - loss: 0.3185 - mean_absolute_percentage_error: 72.5455\n",
            "Epoch 85/100\n",
            "46/46 [==============================] - 0s 32us/step - loss: 0.3136 - mean_absolute_percentage_error: 71.8902\n",
            "Epoch 86/100\n",
            "46/46 [==============================] - 0s 29us/step - loss: 0.3086 - mean_absolute_percentage_error: 71.2233\n",
            "Epoch 87/100\n",
            "46/46 [==============================] - 0s 39us/step - loss: 0.3036 - mean_absolute_percentage_error: 70.5449\n",
            "Epoch 88/100\n",
            "46/46 [==============================] - 0s 43us/step - loss: 0.2986 - mean_absolute_percentage_error: 69.8545\n",
            "Epoch 89/100\n",
            "46/46 [==============================] - 0s 32us/step - loss: 0.2936 - mean_absolute_percentage_error: 69.1563\n",
            "Epoch 90/100\n",
            "46/46 [==============================] - 0s 27us/step - loss: 0.2885 - mean_absolute_percentage_error: 68.4426\n",
            "Epoch 91/100\n",
            "46/46 [==============================] - 0s 42us/step - loss: 0.2834 - mean_absolute_percentage_error: 67.7169\n",
            "Epoch 92/100\n",
            "46/46 [==============================] - 0s 31us/step - loss: 0.2782 - mean_absolute_percentage_error: 66.9772\n",
            "Epoch 93/100\n",
            "46/46 [==============================] - 0s 32us/step - loss: 0.2730 - mean_absolute_percentage_error: 66.2248\n",
            "Epoch 94/100\n",
            "46/46 [==============================] - 0s 42us/step - loss: 0.2678 - mean_absolute_percentage_error: 65.4603\n",
            "Epoch 95/100\n",
            "46/46 [==============================] - 0s 31us/step - loss: 0.2626 - mean_absolute_percentage_error: 64.6839\n",
            "Epoch 96/100\n",
            "46/46 [==============================] - 0s 41us/step - loss: 0.2573 - mean_absolute_percentage_error: 63.8957\n",
            "Epoch 97/100\n",
            "46/46 [==============================] - 0s 35us/step - loss: 0.2521 - mean_absolute_percentage_error: 63.0957\n",
            "Epoch 98/100\n",
            "46/46 [==============================] - 0s 45us/step - loss: 0.2468 - mean_absolute_percentage_error: 62.2841\n",
            "Epoch 99/100\n",
            "46/46 [==============================] - 0s 30us/step - loss: 0.2416 - mean_absolute_percentage_error: 61.4649\n",
            "Epoch 100/100\n",
            "46/46 [==============================] - 0s 60us/step - loss: 0.2363 - mean_absolute_percentage_error: 60.6345\n"
          ],
          "name": "stdout"
        },
        {
          "output_type": "execute_result",
          "data": {
            "text/plain": [
              "<keras.callbacks.callbacks.History at 0x7f359dc21e80>"
            ]
          },
          "metadata": {
            "tags": []
          },
          "execution_count": 10
        }
      ]
    },
    {
      "cell_type": "code",
      "metadata": {
        "id": "Cgu0s6Gn6rj3",
        "colab_type": "code",
        "colab": {
          "base_uri": "https://localhost:8080/",
          "height": 422
        },
        "outputId": "366aabaf-b7a3-4ef6-e68b-93100690cee4"
      },
      "source": [
        "from keras.utils import plot_model\n",
        "plot_model(model, to_file='model.png',show_shapes=True)"
      ],
      "execution_count": 11,
      "outputs": [
        {
          "output_type": "execute_result",
          "data": {
            "image/png": "[encoded data removed]",
            "text/plain": [
              "<IPython.core.display.Image object>"
            ]
          },
          "metadata": {
            "tags": []
          },
          "execution_count": 11
        }
      ]
    },
    {
      "cell_type": "code",
      "metadata": {
        "id": "ct_GX5qt676O",
        "colab_type": "code",
        "colab": {
          "base_uri": "https://localhost:8080/",
          "height": 241
        },
        "outputId": "dc3b8f87-001c-47d9-a13a-61b6604d0d43"
      },
      "source": [
        "#Entrena el modelo\n",
        "x_val = X_train[32:,]\n",
        "y_val = y_train[32:,]\n",
        "#Entrena el modelo\n",
        "model.fit(X_train, y_train, batch_size=32, epochs=5,validation_data=(x_val,y_val))"
      ],
      "execution_count": 12,
      "outputs": [
        {
          "output_type": "stream",
          "text": [
            "Train on 46 samples, validate on 14 samples\n",
            "Epoch 1/5\n",
            "46/46 [==============================] - 0s 605us/step - loss: 0.2293 - mean_absolute_percentage_error: 59.5700 - val_loss: 0.2183 - val_mean_absolute_percentage_error: 57.1521\n",
            "Epoch 2/5\n",
            "46/46 [==============================] - 0s 218us/step - loss: 0.2188 - mean_absolute_percentage_error: 57.8017 - val_loss: 0.2074 - val_mean_absolute_percentage_error: 55.3484\n",
            "Epoch 3/5\n",
            "46/46 [==============================] - 0s 174us/step - loss: 0.2087 - mean_absolute_percentage_error: 56.0699 - val_loss: 0.1966 - val_mean_absolute_percentage_error: 53.5001\n",
            "Epoch 4/5\n",
            "46/46 [==============================] - 0s 157us/step - loss: 0.1984 - mean_absolute_percentage_error: 54.2591 - val_loss: 0.1860 - val_mean_absolute_percentage_error: 51.5907\n",
            "Epoch 5/5\n",
            "46/46 [==============================] - 0s 193us/step - loss: 0.1880 - mean_absolute_percentage_error: 52.3454 - val_loss: 0.1755 - val_mean_absolute_percentage_error: 49.6439\n"
          ],
          "name": "stdout"
        },
        {
          "output_type": "execute_result",
          "data": {
            "text/plain": [
              "<keras.callbacks.callbacks.History at 0x7f359ce3fc88>"
            ]
          },
          "metadata": {
            "tags": []
          },
          "execution_count": 12
        }
      ]
    },
    {
      "cell_type": "code",
      "metadata": {
        "id": "pqQf0cEE7V-I",
        "colab_type": "code",
        "colab": {
          "base_uri": "https://localhost:8080/",
          "height": 272
        },
        "outputId": "bc407215-47be-4fcf-fab4-e5b94ff1f606"
      },
      "source": [
        "print(model.summary())"
      ],
      "execution_count": null,
      "outputs": [
        {
          "output_type": "stream",
          "text": [
            "Model: \"sequential_3\"\n",
            "_________________________________________________________________\n",
            "Layer (type)                 Output Shape              Param #   \n",
            "=================================================================\n",
            "dense_19 (Dense)             (None, 5)                 30        \n",
            "_________________________________________________________________\n",
            "dense_20 (Dense)             (None, 4)                 24        \n",
            "_________________________________________________________________\n",
            "dense_21 (Dense)             (None, 1)                 5         \n",
            "=================================================================\n",
            "Total params: 59\n",
            "Trainable params: 59\n",
            "Non-trainable params: 0\n",
            "_________________________________________________________________\n",
            "None\n"
          ],
          "name": "stdout"
        }
      ]
    },
    {
      "cell_type": "code",
      "metadata": {
        "id": "4--VAhvP7gmv",
        "colab_type": "code",
        "colab": {
          "base_uri": "https://localhost:8080/",
          "height": 68
        },
        "outputId": "d7de894f-a75d-4dfb-c828-44884231c85e"
      },
      "source": [
        "results = model.evaluate(X_test, y_test)\n",
        "\n",
        "for i in range(len(model.metrics_names)):\n",
        "  print(model.metrics_names[i],\" : \", results[i])"
      ],
      "execution_count": 13,
      "outputs": [
        {
          "output_type": "stream",
          "text": [
            "\r12/12 [==============================] - 0s 152us/step\n",
            "loss  :  0.19541501998901367\n",
            "mean_absolute_percentage_error  :  53.39361572265625\n"
          ],
          "name": "stdout"
        }
      ]
    },
    {
      "cell_type": "code",
      "metadata": {
        "id": "QUtyPQ7xyBl5",
        "colab_type": "code",
        "colab": {
          "base_uri": "https://localhost:8080/",
          "height": 1000
        },
        "outputId": "01ba90bc-0d93-4cb1-8a57-e8dd17384a57"
      },
      "source": [
        "model.fit(X_train, y_train, batch_size=32, epochs=100,validation_data=(x_val,y_val))"
      ],
      "execution_count": 14,
      "outputs": [
        {
          "output_type": "stream",
          "text": [
            "Train on 46 samples, validate on 14 samples\n",
            "Epoch 1/100\n",
            "46/46 [==============================] - 0s 227us/step - loss: 0.1780 - mean_absolute_percentage_error: 50.4678 - val_loss: 0.1653 - val_mean_absolute_percentage_error: 47.6727\n",
            "Epoch 2/100\n",
            "46/46 [==============================] - 0s 172us/step - loss: 0.1681 - mean_absolute_percentage_error: 48.5575 - val_loss: 0.1553 - val_mean_absolute_percentage_error: 45.6662\n",
            "Epoch 3/100\n",
            "46/46 [==============================] - 0s 163us/step - loss: 0.1583 - mean_absolute_percentage_error: 46.6487 - val_loss: 0.1456 - val_mean_absolute_percentage_error: 43.6398\n",
            "Epoch 4/100\n",
            "46/46 [==============================] - 0s 166us/step - loss: 0.1491 - mean_absolute_percentage_error: 44.6829 - val_loss: 0.1362 - val_mean_absolute_percentage_error: 41.5858\n",
            "Epoch 5/100\n",
            "46/46 [==============================] - 0s 163us/step - loss: 0.1404 - mean_absolute_percentage_error: 42.6892 - val_loss: 0.1272 - val_mean_absolute_percentage_error: 39.5158\n",
            "Epoch 6/100\n",
            "46/46 [==============================] - 0s 145us/step - loss: 0.1313 - mean_absolute_percentage_error: 40.9490 - val_loss: 0.1186 - val_mean_absolute_percentage_error: 37.4432\n",
            "Epoch 7/100\n",
            "46/46 [==============================] - 0s 193us/step - loss: 0.1230 - mean_absolute_percentage_error: 39.2243 - val_loss: 0.1104 - val_mean_absolute_percentage_error: 35.6522\n",
            "Epoch 8/100\n",
            "46/46 [==============================] - 0s 185us/step - loss: 0.1151 - mean_absolute_percentage_error: 37.7970 - val_loss: 0.1027 - val_mean_absolute_percentage_error: 34.3533\n",
            "Epoch 9/100\n",
            "46/46 [==============================] - 0s 137us/step - loss: 0.1076 - mean_absolute_percentage_error: 36.4092 - val_loss: 0.0954 - val_mean_absolute_percentage_error: 33.2576\n",
            "Epoch 10/100\n",
            "46/46 [==============================] - 0s 169us/step - loss: 0.1004 - mean_absolute_percentage_error: 35.2284 - val_loss: 0.0886 - val_mean_absolute_percentage_error: 32.1718\n",
            "Epoch 11/100\n",
            "46/46 [==============================] - 0s 139us/step - loss: 0.0936 - mean_absolute_percentage_error: 34.0471 - val_loss: 0.0822 - val_mean_absolute_percentage_error: 31.3339\n",
            "Epoch 12/100\n",
            "46/46 [==============================] - 0s 159us/step - loss: 0.0871 - mean_absolute_percentage_error: 32.9598 - val_loss: 0.0762 - val_mean_absolute_percentage_error: 30.5946\n",
            "Epoch 13/100\n",
            "46/46 [==============================] - 0s 140us/step - loss: 0.0814 - mean_absolute_percentage_error: 32.1205 - val_loss: 0.0707 - val_mean_absolute_percentage_error: 29.8497\n",
            "Epoch 14/100\n",
            "46/46 [==============================] - 0s 161us/step - loss: 0.0760 - mean_absolute_percentage_error: 31.4040 - val_loss: 0.0655 - val_mean_absolute_percentage_error: 29.1007\n",
            "Epoch 15/100\n",
            "46/46 [==============================] - 0s 154us/step - loss: 0.0710 - mean_absolute_percentage_error: 30.6567 - val_loss: 0.0609 - val_mean_absolute_percentage_error: 28.3505\n",
            "Epoch 16/100\n",
            "46/46 [==============================] - 0s 128us/step - loss: 0.0662 - mean_absolute_percentage_error: 29.8725 - val_loss: 0.0566 - val_mean_absolute_percentage_error: 27.7207\n",
            "Epoch 17/100\n",
            "46/46 [==============================] - 0s 169us/step - loss: 0.0619 - mean_absolute_percentage_error: 29.0365 - val_loss: 0.0527 - val_mean_absolute_percentage_error: 27.2163\n",
            "Epoch 18/100\n",
            "46/46 [==============================] - 0s 154us/step - loss: 0.0579 - mean_absolute_percentage_error: 28.4807 - val_loss: 0.0491 - val_mean_absolute_percentage_error: 26.6905\n",
            "Epoch 19/100\n",
            "46/46 [==============================] - 0s 163us/step - loss: 0.0546 - mean_absolute_percentage_error: 27.9356 - val_loss: 0.0459 - val_mean_absolute_percentage_error: 26.1481\n",
            "Epoch 20/100\n",
            "46/46 [==============================] - 0s 173us/step - loss: 0.0513 - mean_absolute_percentage_error: 27.4406 - val_loss: 0.0429 - val_mean_absolute_percentage_error: 25.5929\n",
            "Epoch 21/100\n",
            "46/46 [==============================] - 0s 170us/step - loss: 0.0482 - mean_absolute_percentage_error: 26.8010 - val_loss: 0.0403 - val_mean_absolute_percentage_error: 25.0274\n",
            "Epoch 22/100\n",
            "46/46 [==============================] - 0s 192us/step - loss: 0.0455 - mean_absolute_percentage_error: 26.1640 - val_loss: 0.0378 - val_mean_absolute_percentage_error: 24.4502\n",
            "Epoch 23/100\n",
            "46/46 [==============================] - 0s 194us/step - loss: 0.0431 - mean_absolute_percentage_error: 25.6319 - val_loss: 0.0356 - val_mean_absolute_percentage_error: 23.8676\n",
            "Epoch 24/100\n",
            "46/46 [==============================] - 0s 166us/step - loss: 0.0409 - mean_absolute_percentage_error: 25.0286 - val_loss: 0.0336 - val_mean_absolute_percentage_error: 23.2814\n",
            "Epoch 25/100\n",
            "46/46 [==============================] - 0s 160us/step - loss: 0.0388 - mean_absolute_percentage_error: 24.4252 - val_loss: 0.0318 - val_mean_absolute_percentage_error: 22.6961\n",
            "Epoch 26/100\n",
            "46/46 [==============================] - 0s 141us/step - loss: 0.0371 - mean_absolute_percentage_error: 23.8636 - val_loss: 0.0302 - val_mean_absolute_percentage_error: 22.1161\n",
            "Epoch 27/100\n",
            "46/46 [==============================] - 0s 160us/step - loss: 0.0355 - mean_absolute_percentage_error: 23.2428 - val_loss: 0.0287 - val_mean_absolute_percentage_error: 21.5465\n",
            "Epoch 28/100\n",
            "46/46 [==============================] - 0s 140us/step - loss: 0.0340 - mean_absolute_percentage_error: 22.6824 - val_loss: 0.0274 - val_mean_absolute_percentage_error: 20.9906\n",
            "Epoch 29/100\n",
            "46/46 [==============================] - 0s 166us/step - loss: 0.0328 - mean_absolute_percentage_error: 22.1996 - val_loss: 0.0263 - val_mean_absolute_percentage_error: 20.4487\n",
            "Epoch 30/100\n",
            "46/46 [==============================] - 0s 160us/step - loss: 0.0317 - mean_absolute_percentage_error: 21.6985 - val_loss: 0.0253 - val_mean_absolute_percentage_error: 19.9282\n",
            "Epoch 31/100\n",
            "46/46 [==============================] - 0s 175us/step - loss: 0.0306 - mean_absolute_percentage_error: 21.3200 - val_loss: 0.0244 - val_mean_absolute_percentage_error: 19.4362\n",
            "Epoch 32/100\n",
            "46/46 [==============================] - 0s 194us/step - loss: 0.0297 - mean_absolute_percentage_error: 20.9154 - val_loss: 0.0236 - val_mean_absolute_percentage_error: 18.9641\n",
            "Epoch 33/100\n",
            "46/46 [==============================] - 0s 144us/step - loss: 0.0290 - mean_absolute_percentage_error: 20.5749 - val_loss: 0.0229 - val_mean_absolute_percentage_error: 18.5066\n",
            "Epoch 34/100\n",
            "46/46 [==============================] - 0s 120us/step - loss: 0.0282 - mean_absolute_percentage_error: 20.2498 - val_loss: 0.0223 - val_mean_absolute_percentage_error: 18.1249\n",
            "Epoch 35/100\n",
            "46/46 [==============================] - 0s 171us/step - loss: 0.0276 - mean_absolute_percentage_error: 20.0185 - val_loss: 0.0218 - val_mean_absolute_percentage_error: 17.8205\n",
            "Epoch 36/100\n",
            "46/46 [==============================] - 0s 128us/step - loss: 0.0271 - mean_absolute_percentage_error: 19.8359 - val_loss: 0.0213 - val_mean_absolute_percentage_error: 17.5200\n",
            "Epoch 37/100\n",
            "46/46 [==============================] - 0s 110us/step - loss: 0.0265 - mean_absolute_percentage_error: 19.6101 - val_loss: 0.0208 - val_mean_absolute_percentage_error: 17.3757\n",
            "Epoch 38/100\n",
            "46/46 [==============================] - 0s 120us/step - loss: 0.0261 - mean_absolute_percentage_error: 19.5117 - val_loss: 0.0205 - val_mean_absolute_percentage_error: 17.2943\n",
            "Epoch 39/100\n",
            "46/46 [==============================] - 0s 115us/step - loss: 0.0256 - mean_absolute_percentage_error: 19.3780 - val_loss: 0.0201 - val_mean_absolute_percentage_error: 17.2078\n",
            "Epoch 40/100\n",
            "46/46 [==============================] - 0s 124us/step - loss: 0.0251 - mean_absolute_percentage_error: 19.2501 - val_loss: 0.0198 - val_mean_absolute_percentage_error: 17.1110\n",
            "Epoch 41/100\n",
            "46/46 [==============================] - 0s 224us/step - loss: 0.0248 - mean_absolute_percentage_error: 19.1917 - val_loss: 0.0195 - val_mean_absolute_percentage_error: 17.0086\n",
            "Epoch 42/100\n",
            "46/46 [==============================] - 0s 142us/step - loss: 0.0245 - mean_absolute_percentage_error: 19.0507 - val_loss: 0.0193 - val_mean_absolute_percentage_error: 16.9074\n",
            "Epoch 43/100\n",
            "46/46 [==============================] - 0s 136us/step - loss: 0.0242 - mean_absolute_percentage_error: 18.9533 - val_loss: 0.0191 - val_mean_absolute_percentage_error: 16.8056\n",
            "Epoch 44/100\n",
            "46/46 [==============================] - 0s 149us/step - loss: 0.0239 - mean_absolute_percentage_error: 18.8700 - val_loss: 0.0189 - val_mean_absolute_percentage_error: 16.7027\n",
            "Epoch 45/100\n",
            "46/46 [==============================] - 0s 150us/step - loss: 0.0236 - mean_absolute_percentage_error: 18.7545 - val_loss: 0.0187 - val_mean_absolute_percentage_error: 16.6048\n",
            "Epoch 46/100\n",
            "46/46 [==============================] - 0s 131us/step - loss: 0.0234 - mean_absolute_percentage_error: 18.6627 - val_loss: 0.0185 - val_mean_absolute_percentage_error: 16.5123\n",
            "Epoch 47/100\n",
            "46/46 [==============================] - 0s 143us/step - loss: 0.0232 - mean_absolute_percentage_error: 18.5551 - val_loss: 0.0184 - val_mean_absolute_percentage_error: 16.4292\n",
            "Epoch 48/100\n",
            "46/46 [==============================] - 0s 122us/step - loss: 0.0230 - mean_absolute_percentage_error: 18.4614 - val_loss: 0.0182 - val_mean_absolute_percentage_error: 16.3456\n",
            "Epoch 49/100\n",
            "46/46 [==============================] - 0s 182us/step - loss: 0.0228 - mean_absolute_percentage_error: 18.3763 - val_loss: 0.0181 - val_mean_absolute_percentage_error: 16.2555\n",
            "Epoch 50/100\n",
            "46/46 [==============================] - 0s 133us/step - loss: 0.0226 - mean_absolute_percentage_error: 18.2821 - val_loss: 0.0180 - val_mean_absolute_percentage_error: 16.1711\n",
            "Epoch 51/100\n",
            "46/46 [==============================] - 0s 157us/step - loss: 0.0224 - mean_absolute_percentage_error: 18.1932 - val_loss: 0.0179 - val_mean_absolute_percentage_error: 16.0732\n",
            "Epoch 52/100\n",
            "46/46 [==============================] - 0s 143us/step - loss: 0.0222 - mean_absolute_percentage_error: 18.0833 - val_loss: 0.0177 - val_mean_absolute_percentage_error: 15.9816\n",
            "Epoch 53/100\n",
            "46/46 [==============================] - 0s 120us/step - loss: 0.0220 - mean_absolute_percentage_error: 17.9949 - val_loss: 0.0176 - val_mean_absolute_percentage_error: 15.8920\n",
            "Epoch 54/100\n",
            "46/46 [==============================] - 0s 138us/step - loss: 0.0218 - mean_absolute_percentage_error: 17.9140 - val_loss: 0.0175 - val_mean_absolute_percentage_error: 15.8540\n",
            "Epoch 55/100\n",
            "46/46 [==============================] - 0s 140us/step - loss: 0.0216 - mean_absolute_percentage_error: 17.8370 - val_loss: 0.0174 - val_mean_absolute_percentage_error: 15.8188\n",
            "Epoch 56/100\n",
            "46/46 [==============================] - 0s 135us/step - loss: 0.0215 - mean_absolute_percentage_error: 17.7663 - val_loss: 0.0173 - val_mean_absolute_percentage_error: 15.7834\n",
            "Epoch 57/100\n",
            "46/46 [==============================] - 0s 135us/step - loss: 0.0213 - mean_absolute_percentage_error: 17.7004 - val_loss: 0.0172 - val_mean_absolute_percentage_error: 15.7466\n",
            "Epoch 58/100\n",
            "46/46 [==============================] - 0s 133us/step - loss: 0.0211 - mean_absolute_percentage_error: 17.6275 - val_loss: 0.0171 - val_mean_absolute_percentage_error: 15.7043\n",
            "Epoch 59/100\n",
            "46/46 [==============================] - 0s 141us/step - loss: 0.0209 - mean_absolute_percentage_error: 17.5497 - val_loss: 0.0170 - val_mean_absolute_percentage_error: 15.6600\n",
            "Epoch 60/100\n",
            "46/46 [==============================] - 0s 155us/step - loss: 0.0208 - mean_absolute_percentage_error: 17.4750 - val_loss: 0.0168 - val_mean_absolute_percentage_error: 15.6131\n",
            "Epoch 61/100\n",
            "46/46 [==============================] - 0s 147us/step - loss: 0.0206 - mean_absolute_percentage_error: 17.4009 - val_loss: 0.0167 - val_mean_absolute_percentage_error: 15.5639\n",
            "Epoch 62/100\n",
            "46/46 [==============================] - 0s 129us/step - loss: 0.0204 - mean_absolute_percentage_error: 17.3241 - val_loss: 0.0166 - val_mean_absolute_percentage_error: 15.5137\n",
            "Epoch 63/100\n",
            "46/46 [==============================] - 0s 191us/step - loss: 0.0202 - mean_absolute_percentage_error: 17.2489 - val_loss: 0.0165 - val_mean_absolute_percentage_error: 15.4607\n",
            "Epoch 64/100\n",
            "46/46 [==============================] - 0s 131us/step - loss: 0.0201 - mean_absolute_percentage_error: 17.1712 - val_loss: 0.0164 - val_mean_absolute_percentage_error: 15.4003\n",
            "Epoch 65/100\n",
            "46/46 [==============================] - 0s 124us/step - loss: 0.0199 - mean_absolute_percentage_error: 17.0989 - val_loss: 0.0162 - val_mean_absolute_percentage_error: 15.3396\n",
            "Epoch 66/100\n",
            "46/46 [==============================] - 0s 131us/step - loss: 0.0197 - mean_absolute_percentage_error: 17.0272 - val_loss: 0.0161 - val_mean_absolute_percentage_error: 15.2798\n",
            "Epoch 67/100\n",
            "46/46 [==============================] - 0s 134us/step - loss: 0.0195 - mean_absolute_percentage_error: 16.9501 - val_loss: 0.0160 - val_mean_absolute_percentage_error: 15.2205\n",
            "Epoch 68/100\n",
            "46/46 [==============================] - 0s 134us/step - loss: 0.0194 - mean_absolute_percentage_error: 16.8801 - val_loss: 0.0158 - val_mean_absolute_percentage_error: 15.1596\n",
            "Epoch 69/100\n",
            "46/46 [==============================] - 0s 129us/step - loss: 0.0192 - mean_absolute_percentage_error: 16.8127 - val_loss: 0.0157 - val_mean_absolute_percentage_error: 15.0998\n",
            "Epoch 70/100\n",
            "46/46 [==============================] - 0s 129us/step - loss: 0.0190 - mean_absolute_percentage_error: 16.7531 - val_loss: 0.0156 - val_mean_absolute_percentage_error: 15.0432\n",
            "Epoch 71/100\n",
            "46/46 [==============================] - 0s 122us/step - loss: 0.0188 - mean_absolute_percentage_error: 16.6842 - val_loss: 0.0154 - val_mean_absolute_percentage_error: 14.9797\n",
            "Epoch 72/100\n",
            "46/46 [==============================] - 0s 286us/step - loss: 0.0187 - mean_absolute_percentage_error: 16.6190 - val_loss: 0.0153 - val_mean_absolute_percentage_error: 14.9190\n",
            "Epoch 73/100\n",
            "46/46 [==============================] - 0s 128us/step - loss: 0.0185 - mean_absolute_percentage_error: 16.5609 - val_loss: 0.0152 - val_mean_absolute_percentage_error: 14.8563\n",
            "Epoch 74/100\n",
            "46/46 [==============================] - 0s 129us/step - loss: 0.0183 - mean_absolute_percentage_error: 16.4877 - val_loss: 0.0151 - val_mean_absolute_percentage_error: 14.7937\n",
            "Epoch 75/100\n",
            "46/46 [==============================] - 0s 180us/step - loss: 0.0182 - mean_absolute_percentage_error: 16.4365 - val_loss: 0.0149 - val_mean_absolute_percentage_error: 14.7323\n",
            "Epoch 76/100\n",
            "46/46 [==============================] - 0s 114us/step - loss: 0.0180 - mean_absolute_percentage_error: 16.3654 - val_loss: 0.0148 - val_mean_absolute_percentage_error: 14.6640\n",
            "Epoch 77/100\n",
            "46/46 [==============================] - 0s 120us/step - loss: 0.0178 - mean_absolute_percentage_error: 16.3007 - val_loss: 0.0147 - val_mean_absolute_percentage_error: 14.5973\n",
            "Epoch 78/100\n",
            "46/46 [==============================] - 0s 155us/step - loss: 0.0177 - mean_absolute_percentage_error: 16.2278 - val_loss: 0.0146 - val_mean_absolute_percentage_error: 14.5315\n",
            "Epoch 79/100\n",
            "46/46 [==============================] - 0s 148us/step - loss: 0.0175 - mean_absolute_percentage_error: 16.1630 - val_loss: 0.0144 - val_mean_absolute_percentage_error: 14.4680\n",
            "Epoch 80/100\n",
            "46/46 [==============================] - 0s 165us/step - loss: 0.0174 - mean_absolute_percentage_error: 16.1099 - val_loss: 0.0143 - val_mean_absolute_percentage_error: 14.4022\n",
            "Epoch 81/100\n",
            "46/46 [==============================] - 0s 147us/step - loss: 0.0172 - mean_absolute_percentage_error: 16.0329 - val_loss: 0.0142 - val_mean_absolute_percentage_error: 14.3336\n",
            "Epoch 82/100\n",
            "46/46 [==============================] - 0s 130us/step - loss: 0.0170 - mean_absolute_percentage_error: 15.9676 - val_loss: 0.0141 - val_mean_absolute_percentage_error: 14.2598\n",
            "Epoch 83/100\n",
            "46/46 [==============================] - 0s 126us/step - loss: 0.0169 - mean_absolute_percentage_error: 15.9055 - val_loss: 0.0139 - val_mean_absolute_percentage_error: 14.1867\n",
            "Epoch 84/100\n",
            "46/46 [==============================] - 0s 132us/step - loss: 0.0167 - mean_absolute_percentage_error: 15.8312 - val_loss: 0.0138 - val_mean_absolute_percentage_error: 14.1101\n",
            "Epoch 85/100\n",
            "46/46 [==============================] - 0s 153us/step - loss: 0.0166 - mean_absolute_percentage_error: 15.7708 - val_loss: 0.0137 - val_mean_absolute_percentage_error: 14.0293\n",
            "Epoch 86/100\n",
            "46/46 [==============================] - 0s 156us/step - loss: 0.0164 - mean_absolute_percentage_error: 15.6893 - val_loss: 0.0136 - val_mean_absolute_percentage_error: 13.9514\n",
            "Epoch 87/100\n",
            "46/46 [==============================] - 0s 228us/step - loss: 0.0163 - mean_absolute_percentage_error: 15.6136 - val_loss: 0.0135 - val_mean_absolute_percentage_error: 13.8818\n",
            "Epoch 88/100\n",
            "46/46 [==============================] - 0s 135us/step - loss: 0.0161 - mean_absolute_percentage_error: 15.5617 - val_loss: 0.0134 - val_mean_absolute_percentage_error: 13.8185\n",
            "Epoch 89/100\n",
            "46/46 [==============================] - 0s 131us/step - loss: 0.0160 - mean_absolute_percentage_error: 15.4766 - val_loss: 0.0133 - val_mean_absolute_percentage_error: 13.7439\n",
            "Epoch 90/100\n",
            "46/46 [==============================] - 0s 165us/step - loss: 0.0158 - mean_absolute_percentage_error: 15.4026 - val_loss: 0.0132 - val_mean_absolute_percentage_error: 13.6749\n",
            "Epoch 91/100\n",
            "46/46 [==============================] - 0s 128us/step - loss: 0.0157 - mean_absolute_percentage_error: 15.3291 - val_loss: 0.0131 - val_mean_absolute_percentage_error: 13.6075\n",
            "Epoch 92/100\n",
            "46/46 [==============================] - 0s 188us/step - loss: 0.0156 - mean_absolute_percentage_error: 15.2587 - val_loss: 0.0130 - val_mean_absolute_percentage_error: 13.5402\n",
            "Epoch 93/100\n",
            "46/46 [==============================] - 0s 167us/step - loss: 0.0154 - mean_absolute_percentage_error: 15.1976 - val_loss: 0.0128 - val_mean_absolute_percentage_error: 13.4735\n",
            "Epoch 94/100\n",
            "46/46 [==============================] - 0s 156us/step - loss: 0.0153 - mean_absolute_percentage_error: 15.1207 - val_loss: 0.0127 - val_mean_absolute_percentage_error: 13.4081\n",
            "Epoch 95/100\n",
            "46/46 [==============================] - 0s 158us/step - loss: 0.0151 - mean_absolute_percentage_error: 15.0521 - val_loss: 0.0126 - val_mean_absolute_percentage_error: 13.3473\n",
            "Epoch 96/100\n",
            "46/46 [==============================] - 0s 129us/step - loss: 0.0150 - mean_absolute_percentage_error: 14.9845 - val_loss: 0.0125 - val_mean_absolute_percentage_error: 13.2854\n",
            "Epoch 97/100\n",
            "46/46 [==============================] - 0s 135us/step - loss: 0.0149 - mean_absolute_percentage_error: 14.9181 - val_loss: 0.0124 - val_mean_absolute_percentage_error: 13.2242\n",
            "Epoch 98/100\n",
            "46/46 [==============================] - 0s 148us/step - loss: 0.0147 - mean_absolute_percentage_error: 14.8492 - val_loss: 0.0123 - val_mean_absolute_percentage_error: 13.1606\n",
            "Epoch 99/100\n",
            "46/46 [==============================] - 0s 195us/step - loss: 0.0146 - mean_absolute_percentage_error: 14.7856 - val_loss: 0.0122 - val_mean_absolute_percentage_error: 13.0978\n",
            "Epoch 100/100\n",
            "46/46 [==============================] - 0s 136us/step - loss: 0.0145 - mean_absolute_percentage_error: 14.7189 - val_loss: 0.0121 - val_mean_absolute_percentage_error: 13.0388\n"
          ],
          "name": "stdout"
        },
        {
          "output_type": "execute_result",
          "data": {
            "text/plain": [
              "<keras.callbacks.callbacks.History at 0x7f359cde2198>"
            ]
          },
          "metadata": {
            "tags": []
          },
          "execution_count": 14
        }
      ]
    },
    {
      "cell_type": "code",
      "metadata": {
        "id": "QrM-su0d7yNJ",
        "colab_type": "code",
        "colab": {
          "base_uri": "https://localhost:8080/",
          "height": 68
        },
        "outputId": "3f9f27ff-0599-4016-c009-eeedb7de34a5"
      },
      "source": [
        "results = model.evaluate(X_test, y_test)\n",
        "\n",
        "for i in range(len(model.metrics_names)):\n",
        "  print(model.metrics_names[i],\" : \", results[i])"
      ],
      "execution_count": 15,
      "outputs": [
        {
          "output_type": "stream",
          "text": [
            "\r12/12 [==============================] - 0s 73us/step\n",
            "loss  :  0.01251151878386736\n",
            "mean_absolute_percentage_error  :  13.800365447998047\n"
          ],
          "name": "stdout"
        }
      ]
    },
    {
      "cell_type": "code",
      "metadata": {
        "id": "oremsq3g8Dl5",
        "colab_type": "code",
        "colab": {
          "base_uri": "https://localhost:8080/",
          "height": 791
        },
        "outputId": "0585acc2-067f-47f3-a2d7-03c97dac2379"
      },
      "source": [
        "history = model.fit(X_train, y_train, batch_size=32, epochs=200,validation_data=(x_val,y_val), verbose=0)\n",
        "# Plot training & validation accuracy values\n",
        "plt.figure(figsize=(13,6))\n",
        "plt.plot(history.history['mean_absolute_percentage_error'])\n",
        "plt.plot(history.history['val_mean_absolute_percentage_error'])\n",
        "plt.title('Model mean_absolute_percentage_error')\n",
        "plt.ylabel('MAPE %')\n",
        "plt.xlabel('Epoch')\n",
        "plt.legend(['Train', 'Test'], loc='upper right')\n",
        "plt.show()\n",
        "\n",
        "# Plot training & validation loss values\n",
        "plt.figure(figsize=(13,6))\n",
        "plt.plot(history.history['loss'])\n",
        "plt.plot(history.history['val_loss'])\n",
        "plt.title('Model loss')\n",
        "plt.ylabel('Loss')\n",
        "plt.xlabel('Epoch')\n",
        "plt.legend(['Train', 'Test'], loc='upper right')\n",
        "plt.show()"
      ],
      "execution_count": 16,
      "outputs": [
        {
          "output_type": "display_data",
          "data": {
            "image/png": "[encoded data removed]",
            "text/plain": [
              "<Figure size 936x432 with 1 Axes>"
            ]
          },
          "metadata": {
            "tags": [],
            "needs_background": "light"
          }
        },
        {
          "output_type": "display_data",
          "data": {
            "image/png": "[encoded data removed]",
            "text/plain": [
              "<Figure size 936x432 with 1 Axes>"
            ]
          },
          "metadata": {
            "tags": [],
            "needs_background": "light"
          }
        }
      ]
    },
    {
      "cell_type": "code",
      "metadata": {
        "id": "B2uLqr6jNm2r",
        "colab_type": "code",
        "colab": {}
      },
      "source": [
        "predict_data = pd.read_csv('Hyphoon.csv')\n",
        "predict_data\n",
        "countrys = predict_data.iloc[:, 0].values"
      ],
      "execution_count": 61,
      "outputs": []
    },
    {
      "cell_type": "code",
      "metadata": {
        "id": "AfwncjjBT_2r",
        "colab_type": "code",
        "colab": {
          "base_uri": "https://localhost:8080/",
          "height": 102
        },
        "outputId": "73b3a397-dff7-42b3-a54c-621f086e25af"
      },
      "source": [
        "countrys"
      ],
      "execution_count": 62,
      "outputs": [
        {
          "output_type": "execute_result",
          "data": {
            "text/plain": [
              "array(['Zanklan', 'Klatina Islands', 'Gokkan', 'United Kingdom of Cyltus',\n",
              "       'Carolingia', 'Akata', 'Nantian', 'Tianzhen', 'Huangjin', 'Amaria',\n",
              "       'Sunata', 'Grita', 'Sianta', 'Tanagun', 'Dagonia', 'Norca', 'Crot',\n",
              "       'Zontia', 'Hecia', 'Korolia', 'Naurissu', 'Karamana', 'Lianzhen',\n",
              "       'Pingyuan'], dtype=object)"
            ]
          },
          "metadata": {
            "tags": []
          },
          "execution_count": 62
        }
      ]
    },
    {
      "cell_type": "code",
      "metadata": {
        "id": "63_tgy3AOEXA",
        "colab_type": "code",
        "colab": {
          "base_uri": "https://localhost:8080/",
          "height": 425
        },
        "outputId": "162ec89a-8bc6-4562-f0c3-59ca82103c42"
      },
      "source": [
        "predict_set = predict_data.iloc[:, 1:6].values\n",
        "predict_set"
      ],
      "execution_count": 52,
      "outputs": [
        {
          "output_type": "execute_result",
          "data": {
            "text/plain": [
              "array([[ 8.0e+01,  1.5e+01,  1.2e-02,  2.0e+00,  9.3e-01],\n",
              "       [ 7.1e+01,  2.4e+01,  1.1e-02, -3.0e+00,  8.8e-01],\n",
              "       [ 5.5e+01,  6.0e+01,  2.3e-01, -8.0e+00,  6.0e-01],\n",
              "       [ 7.8e+01,  3.5e+01,  1.2e-01, -3.4e+00,  8.2e-01],\n",
              "       [ 7.2e+01,  2.2e+01,  1.6e-01, -1.1e+00,  8.1e-01],\n",
              "       [ 5.9e+01,  2.7e+01,  7.0e-01,  5.0e+00,  7.2e-01],\n",
              "       [ 7.9e+01,  3.2e+01,  1.8e-01,  2.0e-01,  9.0e-01],\n",
              "       [ 6.7e+01,  4.0e+01,  1.8e-01,  6.0e-01,  8.2e-01],\n",
              "       [ 3.0e+01,  3.0e+01,  2.0e-01,  4.0e-01,  8.3e-01],\n",
              "       [ 6.0e+01,  4.6e+01,  3.0e-01,  1.8e+00,  7.6e-01],\n",
              "       [ 6.7e+01,  3.4e+01,  1.5e-01, -2.0e+00,  6.9e-01],\n",
              "       [ 5.6e+01,  3.1e+01,  1.1e-01,  0.0e+00,  7.9e-01],\n",
              "       [ 7.0e+01,  3.6e+01,  3.4e-01, -3.0e-01,  7.6e-01],\n",
              "       [ 6.9e+01,  4.0e+01,  4.5e-01,  1.2e+00,  6.8e-01],\n",
              "       [ 8.2e+01,  3.2e+01,  1.9e-01,  7.0e+00,  8.1e-01],\n",
              "       [ 7.9e+01,  2.3e+01,  3.0e-02, -6.0e+00,  8.9e-01],\n",
              "       [ 8.1e+01,  1.8e+01,  2.8e-02, -7.0e+00,  9.3e-01],\n",
              "       [ 8.3e+01,  3.3e+01,  4.5e-01,  8.0e+00,  6.6e-01],\n",
              "       [ 7.6e+01,  2.9e+01,  2.3e-01, -2.4e+00,  8.3e-01],\n",
              "       [ 7.3e+01,  3.6e+01,  3.4e-01, -8.0e+00,  6.3e-01],\n",
              "       [ 9.0e+01,  1.5e+01,  1.4e-02,  0.0e+00,  9.3e-01],\n",
              "       [ 8.7e+01,  2.5e+01,  1.6e-02,  1.6e+01,  9.2e-01],\n",
              "       [ 7.8e+01,  4.2e+01,  1.6e-01, -4.0e+00,  8.1e-01],\n",
              "       [ 7.2e+01,  3.2e+01,  2.1e-01, -4.0e+00,  7.6e-01]])"
            ]
          },
          "metadata": {
            "tags": []
          },
          "execution_count": 52
        }
      ]
    },
    {
      "cell_type": "code",
      "metadata": {
        "id": "kWQUKEfgPYll",
        "colab_type": "code",
        "colab": {
          "base_uri": "https://localhost:8080/",
          "height": 425
        },
        "outputId": "940eb8a7-6d25-43ec-f925-d14314d50ba6"
      },
      "source": [
        "sc = MinMaxScaler(feature_range = (0, 1))\n",
        "predict_set1 = sc.fit_transform(predict_set)\n",
        "predict_set1"
      ],
      "execution_count": 53,
      "outputs": [
        {
          "output_type": "execute_result",
          "data": {
            "text/plain": [
              "array([[0.83333333, 0.        , 0.00145138, 0.41666667, 1.        ],\n",
              "       [0.68333333, 0.2       , 0.        , 0.20833333, 0.84848485],\n",
              "       [0.41666667, 1.        , 0.31785196, 0.        , 0.        ],\n",
              "       [0.8       , 0.44444444, 0.15820029, 0.19166667, 0.66666667],\n",
              "       [0.7       , 0.15555556, 0.21625544, 0.2875    , 0.63636364],\n",
              "       [0.48333333, 0.26666667, 1.        , 0.54166667, 0.36363636],\n",
              "       [0.81666667, 0.37777778, 0.24528302, 0.34166667, 0.90909091],\n",
              "       [0.61666667, 0.55555556, 0.24528302, 0.35833333, 0.66666667],\n",
              "       [0.        , 0.33333333, 0.2743106 , 0.35      , 0.6969697 ],\n",
              "       [0.5       , 0.68888889, 0.41944848, 0.40833333, 0.48484848],\n",
              "       [0.61666667, 0.42222222, 0.20174165, 0.25      , 0.27272727],\n",
              "       [0.43333333, 0.35555556, 0.1436865 , 0.33333333, 0.57575758],\n",
              "       [0.66666667, 0.46666667, 0.47750363, 0.32083333, 0.48484848],\n",
              "       [0.65      , 0.55555556, 0.6371553 , 0.38333333, 0.24242424],\n",
              "       [0.86666667, 0.37777778, 0.25979681, 0.625     , 0.63636364],\n",
              "       [0.81666667, 0.17777778, 0.0275762 , 0.08333333, 0.87878788],\n",
              "       [0.85      , 0.06666667, 0.02467344, 0.04166667, 1.        ],\n",
              "       [0.88333333, 0.4       , 0.6371553 , 0.66666667, 0.18181818],\n",
              "       [0.76666667, 0.31111111, 0.31785196, 0.23333333, 0.6969697 ],\n",
              "       [0.71666667, 0.46666667, 0.47750363, 0.        , 0.09090909],\n",
              "       [1.        , 0.        , 0.00435414, 0.33333333, 1.        ],\n",
              "       [0.95      , 0.22222222, 0.00725689, 1.        , 0.96969697],\n",
              "       [0.8       , 0.6       , 0.21625544, 0.16666667, 0.63636364],\n",
              "       [0.7       , 0.37777778, 0.28882438, 0.16666667, 0.48484848]])"
            ]
          },
          "metadata": {
            "tags": []
          },
          "execution_count": 53
        }
      ]
    },
    {
      "cell_type": "code",
      "metadata": {
        "id": "cdNDLoCwPFp_",
        "colab_type": "code",
        "colab": {}
      },
      "source": [
        "new_prediction = model.predict(predict_set1)"
      ],
      "execution_count": 54,
      "outputs": []
    },
    {
      "cell_type": "code",
      "metadata": {
        "id": "j-UZS6xkQcEf",
        "colab_type": "code",
        "colab": {
          "base_uri": "https://localhost:8080/",
          "height": 425
        },
        "outputId": "8827b4b1-fcd4-4bd6-cda5-77ef0a3da39c"
      },
      "source": [
        "new_prediction"
      ],
      "execution_count": 55,
      "outputs": [
        {
          "output_type": "execute_result",
          "data": {
            "text/plain": [
              "array([[0.76622117],\n",
              "       [0.7660036 ],\n",
              "       [0.67629707],\n",
              "       [0.7450161 ],\n",
              "       [0.7278445 ],\n",
              "       [0.6358243 ],\n",
              "       [0.7526077 ],\n",
              "       [0.72027445],\n",
              "       [0.70603025],\n",
              "       [0.68591654],\n",
              "       [0.6919122 ],\n",
              "       [0.7127441 ],\n",
              "       [0.69657826],\n",
              "       [0.65823615],\n",
              "       [0.69840896],\n",
              "       [0.7835139 ],\n",
              "       [0.80113196],\n",
              "       [0.6318032 ],\n",
              "       [0.73655   ],\n",
              "       [0.68771994],\n",
              "       [0.7786231 ],\n",
              "       [0.7294624 ],\n",
              "       [0.7415992 ],\n",
              "       [0.7203069 ]], dtype=float32)"
            ]
          },
          "metadata": {
            "tags": []
          },
          "execution_count": 55
        }
      ]
    },
    {
      "cell_type": "code",
      "metadata": {
        "id": "Dh4Bn-hKQjVo",
        "colab_type": "code",
        "colab": {}
      },
      "source": [
        "final_prediction = np.append(predict_set, new_prediction, axis=1)"
      ],
      "execution_count": 56,
      "outputs": []
    },
    {
      "cell_type": "code",
      "metadata": {
        "id": "5o_3N0zUQ05R",
        "colab_type": "code",
        "colab": {
          "base_uri": "https://localhost:8080/",
          "height": 34
        },
        "outputId": "e4253285-759e-4745-ff5e-55b4123c73e7"
      },
      "source": [
        "final_prediction.shape\n"
      ],
      "execution_count": 57,
      "outputs": [
        {
          "output_type": "execute_result",
          "data": {
            "text/plain": [
              "(24, 6)"
            ]
          },
          "metadata": {
            "tags": []
          },
          "execution_count": 57
        }
      ]
    },
    {
      "cell_type": "code",
      "metadata": {
        "id": "Au6vqxNDSzJn",
        "colab_type": "code",
        "colab": {
          "base_uri": "https://localhost:8080/",
          "height": 34
        },
        "outputId": "3c47f0a5-3b27-4c6f-b524-8bcf27d231d3"
      },
      "source": [
        "predict_set.shape"
      ],
      "execution_count": 58,
      "outputs": [
        {
          "output_type": "execute_result",
          "data": {
            "text/plain": [
              "(24, 5)"
            ]
          },
          "metadata": {
            "tags": []
          },
          "execution_count": 58
        }
      ]
    },
    {
      "cell_type": "code",
      "metadata": {
        "id": "XNHeraVHUEWK",
        "colab_type": "code",
        "colab": {
          "base_uri": "https://localhost:8080/",
          "height": 350
        },
        "outputId": "be1effc3-10d8-46b5-c5ab-543e82d7614f"
      },
      "source": [
        "hyphoon = np.append(countrys, final_prediction, axis=1)"
      ],
      "execution_count": 63,
      "outputs": [
        {
          "output_type": "error",
          "ename": "AxisError",
          "evalue": "ignored",
          "traceback": [
            "\u001b[0;31m---------------------------------------------------------------------------\u001b[0m",
            "\u001b[0;31mAxisError\u001b[0m                                 Traceback (most recent call last)",
            "\u001b[0;32m<ipython-input-63-f58d381955e6>\u001b[0m in \u001b[0;36m<module>\u001b[0;34m()\u001b[0m\n\u001b[0;32m----> 1\u001b[0;31m \u001b[0mhyphoon\u001b[0m \u001b[0;34m=\u001b[0m \u001b[0mnp\u001b[0m\u001b[0;34m.\u001b[0m\u001b[0mappend\u001b[0m\u001b[0;34m(\u001b[0m\u001b[0mcountrys\u001b[0m\u001b[0;34m,\u001b[0m \u001b[0mfinal_prediction\u001b[0m\u001b[0;34m,\u001b[0m \u001b[0maxis\u001b[0m\u001b[0;34m=\u001b[0m\u001b[0;36m1\u001b[0m\u001b[0;34m)\u001b[0m\u001b[0;34m\u001b[0m\u001b[0;34m\u001b[0m\u001b[0m\n\u001b[0m",
            "\u001b[0;32m<__array_function__ internals>\u001b[0m in \u001b[0;36mappend\u001b[0;34m(*args, **kwargs)\u001b[0m\n",
            "\u001b[0;32m/usr/local/lib/python3.6/dist-packages/numpy/lib/function_base.py\u001b[0m in \u001b[0;36mappend\u001b[0;34m(arr, values, axis)\u001b[0m\n\u001b[1;32m   4691\u001b[0m         \u001b[0mvalues\u001b[0m \u001b[0;34m=\u001b[0m \u001b[0mravel\u001b[0m\u001b[0;34m(\u001b[0m\u001b[0mvalues\u001b[0m\u001b[0;34m)\u001b[0m\u001b[0;34m\u001b[0m\u001b[0;34m\u001b[0m\u001b[0m\n\u001b[1;32m   4692\u001b[0m         \u001b[0maxis\u001b[0m \u001b[0;34m=\u001b[0m \u001b[0marr\u001b[0m\u001b[0;34m.\u001b[0m\u001b[0mndim\u001b[0m\u001b[0;34m-\u001b[0m\u001b[0;36m1\u001b[0m\u001b[0;34m\u001b[0m\u001b[0;34m\u001b[0m\u001b[0m\n\u001b[0;32m-> 4693\u001b[0;31m     \u001b[0;32mreturn\u001b[0m \u001b[0mconcatenate\u001b[0m\u001b[0;34m(\u001b[0m\u001b[0;34m(\u001b[0m\u001b[0marr\u001b[0m\u001b[0;34m,\u001b[0m \u001b[0mvalues\u001b[0m\u001b[0;34m)\u001b[0m\u001b[0;34m,\u001b[0m \u001b[0maxis\u001b[0m\u001b[0;34m=\u001b[0m\u001b[0maxis\u001b[0m\u001b[0;34m)\u001b[0m\u001b[0;34m\u001b[0m\u001b[0;34m\u001b[0m\u001b[0m\n\u001b[0m\u001b[1;32m   4694\u001b[0m \u001b[0;34m\u001b[0m\u001b[0m\n\u001b[1;32m   4695\u001b[0m \u001b[0;34m\u001b[0m\u001b[0m\n",
            "\u001b[0;32m<__array_function__ internals>\u001b[0m in \u001b[0;36mconcatenate\u001b[0;34m(*args, **kwargs)\u001b[0m\n",
            "\u001b[0;31mAxisError\u001b[0m: axis 1 is out of bounds for array of dimension 1"
          ]
        }
      ]
    },
    {
      "cell_type": "code",
      "metadata": {
        "id": "w1y1FqvHS01l",
        "colab_type": "code",
        "colab": {}
      },
      "source": [
        "pd.DataFrame(final_prediction).to_csv(\"Hyphoon2.csv\")"
      ],
      "execution_count": 59,
      "outputs": []
    },
    {
      "cell_type": "code",
      "metadata": {
        "id": "zU4Zl_4KTR0p",
        "colab_type": "code",
        "colab": {
          "base_uri": "https://localhost:8080/",
          "height": 793
        },
        "outputId": "e129a09b-c3b7-4142-f994-7446a2ed0ce8"
      },
      "source": [
        "pd.read_csv('Hyphoon2.csv')"
      ],
      "execution_count": 60,
      "outputs": [
        {
          "output_type": "execute_result",
          "data": {
            "text/html": [
              "<div>\n",
              "<style scoped>\n",
              "    .dataframe tbody tr th:only-of-type {\n",
              "        vertical-align: middle;\n",
              "    }\n",
              "\n",
              "    .dataframe tbody tr th {\n",
              "        vertical-align: top;\n",
              "    }\n",
              "\n",
              "    .dataframe thead th {\n",
              "        text-align: right;\n",
              "    }\n",
              "</style>\n",
              "<table border=\"1\" class=\"dataframe\">\n",
              "  <thead>\n",
              "    <tr style=\"text-align: right;\">\n",
              "      <th></th>\n",
              "      <th>Unnamed: 0</th>\n",
              "      <th>0</th>\n",
              "      <th>1</th>\n",
              "      <th>2</th>\n",
              "      <th>3</th>\n",
              "      <th>4</th>\n",
              "      <th>5</th>\n",
              "    </tr>\n",
              "  </thead>\n",
              "  <tbody>\n",
              "    <tr>\n",
              "      <th>0</th>\n",
              "      <td>0</td>\n",
              "      <td>80.0</td>\n",
              "      <td>15.0</td>\n",
              "      <td>0.012</td>\n",
              "      <td>2.0</td>\n",
              "      <td>0.93</td>\n",
              "      <td>0.766221</td>\n",
              "    </tr>\n",
              "    <tr>\n",
              "      <th>1</th>\n",
              "      <td>1</td>\n",
              "      <td>71.0</td>\n",
              "      <td>24.0</td>\n",
              "      <td>0.011</td>\n",
              "      <td>-3.0</td>\n",
              "      <td>0.88</td>\n",
              "      <td>0.766004</td>\n",
              "    </tr>\n",
              "    <tr>\n",
              "      <th>2</th>\n",
              "      <td>2</td>\n",
              "      <td>55.0</td>\n",
              "      <td>60.0</td>\n",
              "      <td>0.230</td>\n",
              "      <td>-8.0</td>\n",
              "      <td>0.60</td>\n",
              "      <td>0.676297</td>\n",
              "    </tr>\n",
              "    <tr>\n",
              "      <th>3</th>\n",
              "      <td>3</td>\n",
              "      <td>78.0</td>\n",
              "      <td>35.0</td>\n",
              "      <td>0.120</td>\n",
              "      <td>-3.4</td>\n",
              "      <td>0.82</td>\n",
              "      <td>0.745016</td>\n",
              "    </tr>\n",
              "    <tr>\n",
              "      <th>4</th>\n",
              "      <td>4</td>\n",
              "      <td>72.0</td>\n",
              "      <td>22.0</td>\n",
              "      <td>0.160</td>\n",
              "      <td>-1.1</td>\n",
              "      <td>0.81</td>\n",
              "      <td>0.727844</td>\n",
              "    </tr>\n",
              "    <tr>\n",
              "      <th>5</th>\n",
              "      <td>5</td>\n",
              "      <td>59.0</td>\n",
              "      <td>27.0</td>\n",
              "      <td>0.700</td>\n",
              "      <td>5.0</td>\n",
              "      <td>0.72</td>\n",
              "      <td>0.635824</td>\n",
              "    </tr>\n",
              "    <tr>\n",
              "      <th>6</th>\n",
              "      <td>6</td>\n",
              "      <td>79.0</td>\n",
              "      <td>32.0</td>\n",
              "      <td>0.180</td>\n",
              "      <td>0.2</td>\n",
              "      <td>0.90</td>\n",
              "      <td>0.752608</td>\n",
              "    </tr>\n",
              "    <tr>\n",
              "      <th>7</th>\n",
              "      <td>7</td>\n",
              "      <td>67.0</td>\n",
              "      <td>40.0</td>\n",
              "      <td>0.180</td>\n",
              "      <td>0.6</td>\n",
              "      <td>0.82</td>\n",
              "      <td>0.720274</td>\n",
              "    </tr>\n",
              "    <tr>\n",
              "      <th>8</th>\n",
              "      <td>8</td>\n",
              "      <td>30.0</td>\n",
              "      <td>30.0</td>\n",
              "      <td>0.200</td>\n",
              "      <td>0.4</td>\n",
              "      <td>0.83</td>\n",
              "      <td>0.706030</td>\n",
              "    </tr>\n",
              "    <tr>\n",
              "      <th>9</th>\n",
              "      <td>9</td>\n",
              "      <td>60.0</td>\n",
              "      <td>46.0</td>\n",
              "      <td>0.300</td>\n",
              "      <td>1.8</td>\n",
              "      <td>0.76</td>\n",
              "      <td>0.685917</td>\n",
              "    </tr>\n",
              "    <tr>\n",
              "      <th>10</th>\n",
              "      <td>10</td>\n",
              "      <td>67.0</td>\n",
              "      <td>34.0</td>\n",
              "      <td>0.150</td>\n",
              "      <td>-2.0</td>\n",
              "      <td>0.69</td>\n",
              "      <td>0.691912</td>\n",
              "    </tr>\n",
              "    <tr>\n",
              "      <th>11</th>\n",
              "      <td>11</td>\n",
              "      <td>56.0</td>\n",
              "      <td>31.0</td>\n",
              "      <td>0.110</td>\n",
              "      <td>0.0</td>\n",
              "      <td>0.79</td>\n",
              "      <td>0.712744</td>\n",
              "    </tr>\n",
              "    <tr>\n",
              "      <th>12</th>\n",
              "      <td>12</td>\n",
              "      <td>70.0</td>\n",
              "      <td>36.0</td>\n",
              "      <td>0.340</td>\n",
              "      <td>-0.3</td>\n",
              "      <td>0.76</td>\n",
              "      <td>0.696578</td>\n",
              "    </tr>\n",
              "    <tr>\n",
              "      <th>13</th>\n",
              "      <td>13</td>\n",
              "      <td>69.0</td>\n",
              "      <td>40.0</td>\n",
              "      <td>0.450</td>\n",
              "      <td>1.2</td>\n",
              "      <td>0.68</td>\n",
              "      <td>0.658236</td>\n",
              "    </tr>\n",
              "    <tr>\n",
              "      <th>14</th>\n",
              "      <td>14</td>\n",
              "      <td>82.0</td>\n",
              "      <td>32.0</td>\n",
              "      <td>0.190</td>\n",
              "      <td>7.0</td>\n",
              "      <td>0.81</td>\n",
              "      <td>0.698409</td>\n",
              "    </tr>\n",
              "    <tr>\n",
              "      <th>15</th>\n",
              "      <td>15</td>\n",
              "      <td>79.0</td>\n",
              "      <td>23.0</td>\n",
              "      <td>0.030</td>\n",
              "      <td>-6.0</td>\n",
              "      <td>0.89</td>\n",
              "      <td>0.783514</td>\n",
              "    </tr>\n",
              "    <tr>\n",
              "      <th>16</th>\n",
              "      <td>16</td>\n",
              "      <td>81.0</td>\n",
              "      <td>18.0</td>\n",
              "      <td>0.028</td>\n",
              "      <td>-7.0</td>\n",
              "      <td>0.93</td>\n",
              "      <td>0.801132</td>\n",
              "    </tr>\n",
              "    <tr>\n",
              "      <th>17</th>\n",
              "      <td>17</td>\n",
              "      <td>83.0</td>\n",
              "      <td>33.0</td>\n",
              "      <td>0.450</td>\n",
              "      <td>8.0</td>\n",
              "      <td>0.66</td>\n",
              "      <td>0.631803</td>\n",
              "    </tr>\n",
              "    <tr>\n",
              "      <th>18</th>\n",
              "      <td>18</td>\n",
              "      <td>76.0</td>\n",
              "      <td>29.0</td>\n",
              "      <td>0.230</td>\n",
              "      <td>-2.4</td>\n",
              "      <td>0.83</td>\n",
              "      <td>0.736550</td>\n",
              "    </tr>\n",
              "    <tr>\n",
              "      <th>19</th>\n",
              "      <td>19</td>\n",
              "      <td>73.0</td>\n",
              "      <td>36.0</td>\n",
              "      <td>0.340</td>\n",
              "      <td>-8.0</td>\n",
              "      <td>0.63</td>\n",
              "      <td>0.687720</td>\n",
              "    </tr>\n",
              "    <tr>\n",
              "      <th>20</th>\n",
              "      <td>20</td>\n",
              "      <td>90.0</td>\n",
              "      <td>15.0</td>\n",
              "      <td>0.014</td>\n",
              "      <td>0.0</td>\n",
              "      <td>0.93</td>\n",
              "      <td>0.778623</td>\n",
              "    </tr>\n",
              "    <tr>\n",
              "      <th>21</th>\n",
              "      <td>21</td>\n",
              "      <td>87.0</td>\n",
              "      <td>25.0</td>\n",
              "      <td>0.016</td>\n",
              "      <td>16.0</td>\n",
              "      <td>0.92</td>\n",
              "      <td>0.729462</td>\n",
              "    </tr>\n",
              "    <tr>\n",
              "      <th>22</th>\n",
              "      <td>22</td>\n",
              "      <td>78.0</td>\n",
              "      <td>42.0</td>\n",
              "      <td>0.160</td>\n",
              "      <td>-4.0</td>\n",
              "      <td>0.81</td>\n",
              "      <td>0.741599</td>\n",
              "    </tr>\n",
              "    <tr>\n",
              "      <th>23</th>\n",
              "      <td>23</td>\n",
              "      <td>72.0</td>\n",
              "      <td>32.0</td>\n",
              "      <td>0.210</td>\n",
              "      <td>-4.0</td>\n",
              "      <td>0.76</td>\n",
              "      <td>0.720307</td>\n",
              "    </tr>\n",
              "  </tbody>\n",
              "</table>\n",
              "</div>"
            ],
            "text/plain": [
              "    Unnamed: 0     0     1      2     3     4         5\n",
              "0            0  80.0  15.0  0.012   2.0  0.93  0.766221\n",
              "1            1  71.0  24.0  0.011  -3.0  0.88  0.766004\n",
              "2            2  55.0  60.0  0.230  -8.0  0.60  0.676297\n",
              "3            3  78.0  35.0  0.120  -3.4  0.82  0.745016\n",
              "4            4  72.0  22.0  0.160  -1.1  0.81  0.727844\n",
              "5            5  59.0  27.0  0.700   5.0  0.72  0.635824\n",
              "6            6  79.0  32.0  0.180   0.2  0.90  0.752608\n",
              "7            7  67.0  40.0  0.180   0.6  0.82  0.720274\n",
              "8            8  30.0  30.0  0.200   0.4  0.83  0.706030\n",
              "9            9  60.0  46.0  0.300   1.8  0.76  0.685917\n",
              "10          10  67.0  34.0  0.150  -2.0  0.69  0.691912\n",
              "11          11  56.0  31.0  0.110   0.0  0.79  0.712744\n",
              "12          12  70.0  36.0  0.340  -0.3  0.76  0.696578\n",
              "13          13  69.0  40.0  0.450   1.2  0.68  0.658236\n",
              "14          14  82.0  32.0  0.190   7.0  0.81  0.698409\n",
              "15          15  79.0  23.0  0.030  -6.0  0.89  0.783514\n",
              "16          16  81.0  18.0  0.028  -7.0  0.93  0.801132\n",
              "17          17  83.0  33.0  0.450   8.0  0.66  0.631803\n",
              "18          18  76.0  29.0  0.230  -2.4  0.83  0.736550\n",
              "19          19  73.0  36.0  0.340  -8.0  0.63  0.687720\n",
              "20          20  90.0  15.0  0.014   0.0  0.93  0.778623\n",
              "21          21  87.0  25.0  0.016  16.0  0.92  0.729462\n",
              "22          22  78.0  42.0  0.160  -4.0  0.81  0.741599\n",
              "23          23  72.0  32.0  0.210  -4.0  0.76  0.720307"
            ]
          },
          "metadata": {
            "tags": []
          },
          "execution_count": 60
        }
      ]
    },
    {
      "cell_type": "code",
      "metadata": {
        "id": "uT1dOJFBXEGK",
        "colab_type": "code",
        "colab": {
          "base_uri": "https://localhost:8080/",
          "height": 827
        },
        "outputId": "fee6fc79-847f-484a-f44f-00c98b361c83"
      },
      "source": [
        "pd.read_csv('Hyphoon3.csv')"
      ],
      "execution_count": 64,
      "outputs": [
        {
          "output_type": "execute_result",
          "data": {
            "text/html": [
              "<div>\n",
              "<style scoped>\n",
              "    .dataframe tbody tr th:only-of-type {\n",
              "        vertical-align: middle;\n",
              "    }\n",
              "\n",
              "    .dataframe tbody tr th {\n",
              "        vertical-align: top;\n",
              "    }\n",
              "\n",
              "    .dataframe thead th {\n",
              "        text-align: right;\n",
              "    }\n",
              "</style>\n",
              "<table border=\"1\" class=\"dataframe\">\n",
              "  <thead>\n",
              "    <tr style=\"text-align: right;\">\n",
              "      <th></th>\n",
              "      <th>Country</th>\n",
              "      <th>Index of Economic Freedom</th>\n",
              "      <th>Gini Coefficient</th>\n",
              "      <th>Gender Inequality Index</th>\n",
              "      <th>Footprint</th>\n",
              "      <th>Human Capital Index</th>\n",
              "      <th>5</th>\n",
              "    </tr>\n",
              "  </thead>\n",
              "  <tbody>\n",
              "    <tr>\n",
              "      <th>0</th>\n",
              "      <td>Zanklan</td>\n",
              "      <td>80</td>\n",
              "      <td>15</td>\n",
              "      <td>0.012</td>\n",
              "      <td>2.0</td>\n",
              "      <td>0.93</td>\n",
              "      <td>0.766221</td>\n",
              "    </tr>\n",
              "    <tr>\n",
              "      <th>1</th>\n",
              "      <td>Klatina Islands</td>\n",
              "      <td>71</td>\n",
              "      <td>24</td>\n",
              "      <td>0.011</td>\n",
              "      <td>-3.0</td>\n",
              "      <td>0.88</td>\n",
              "      <td>0.766004</td>\n",
              "    </tr>\n",
              "    <tr>\n",
              "      <th>2</th>\n",
              "      <td>Gokkan</td>\n",
              "      <td>55</td>\n",
              "      <td>60</td>\n",
              "      <td>0.230</td>\n",
              "      <td>-8.0</td>\n",
              "      <td>0.60</td>\n",
              "      <td>0.676297</td>\n",
              "    </tr>\n",
              "    <tr>\n",
              "      <th>3</th>\n",
              "      <td>United Kindgom of the cyltus</td>\n",
              "      <td>78</td>\n",
              "      <td>35</td>\n",
              "      <td>0.120</td>\n",
              "      <td>-3.4</td>\n",
              "      <td>0.82</td>\n",
              "      <td>0.745016</td>\n",
              "    </tr>\n",
              "    <tr>\n",
              "      <th>4</th>\n",
              "      <td>Carolingia</td>\n",
              "      <td>72</td>\n",
              "      <td>22</td>\n",
              "      <td>0.160</td>\n",
              "      <td>-1.1</td>\n",
              "      <td>0.81</td>\n",
              "      <td>0.727844</td>\n",
              "    </tr>\n",
              "    <tr>\n",
              "      <th>5</th>\n",
              "      <td>Akata</td>\n",
              "      <td>59</td>\n",
              "      <td>27</td>\n",
              "      <td>0.700</td>\n",
              "      <td>5.0</td>\n",
              "      <td>0.72</td>\n",
              "      <td>0.635824</td>\n",
              "    </tr>\n",
              "    <tr>\n",
              "      <th>6</th>\n",
              "      <td>Nantian</td>\n",
              "      <td>79</td>\n",
              "      <td>32</td>\n",
              "      <td>0.180</td>\n",
              "      <td>0.2</td>\n",
              "      <td>0.90</td>\n",
              "      <td>0.752608</td>\n",
              "    </tr>\n",
              "    <tr>\n",
              "      <th>7</th>\n",
              "      <td>Tianzhen</td>\n",
              "      <td>67</td>\n",
              "      <td>40</td>\n",
              "      <td>0.180</td>\n",
              "      <td>0.6</td>\n",
              "      <td>0.82</td>\n",
              "      <td>0.720274</td>\n",
              "    </tr>\n",
              "    <tr>\n",
              "      <th>8</th>\n",
              "      <td>Huangjin</td>\n",
              "      <td>30</td>\n",
              "      <td>30</td>\n",
              "      <td>0.200</td>\n",
              "      <td>0.4</td>\n",
              "      <td>0.83</td>\n",
              "      <td>0.706030</td>\n",
              "    </tr>\n",
              "    <tr>\n",
              "      <th>9</th>\n",
              "      <td>Amaria</td>\n",
              "      <td>60</td>\n",
              "      <td>46</td>\n",
              "      <td>0.300</td>\n",
              "      <td>1.8</td>\n",
              "      <td>0.76</td>\n",
              "      <td>0.685917</td>\n",
              "    </tr>\n",
              "    <tr>\n",
              "      <th>10</th>\n",
              "      <td>Sunata</td>\n",
              "      <td>67</td>\n",
              "      <td>34</td>\n",
              "      <td>0.150</td>\n",
              "      <td>-2.0</td>\n",
              "      <td>0.69</td>\n",
              "      <td>0.691912</td>\n",
              "    </tr>\n",
              "    <tr>\n",
              "      <th>11</th>\n",
              "      <td>Grita</td>\n",
              "      <td>56</td>\n",
              "      <td>31</td>\n",
              "      <td>0.110</td>\n",
              "      <td>0.0</td>\n",
              "      <td>0.79</td>\n",
              "      <td>0.712744</td>\n",
              "    </tr>\n",
              "    <tr>\n",
              "      <th>12</th>\n",
              "      <td>Sianta</td>\n",
              "      <td>70</td>\n",
              "      <td>36</td>\n",
              "      <td>0.340</td>\n",
              "      <td>-0.3</td>\n",
              "      <td>0.76</td>\n",
              "      <td>0.696578</td>\n",
              "    </tr>\n",
              "    <tr>\n",
              "      <th>13</th>\n",
              "      <td>Tanagun</td>\n",
              "      <td>69</td>\n",
              "      <td>40</td>\n",
              "      <td>0.450</td>\n",
              "      <td>1.2</td>\n",
              "      <td>0.68</td>\n",
              "      <td>0.658236</td>\n",
              "    </tr>\n",
              "    <tr>\n",
              "      <th>14</th>\n",
              "      <td>Dagonia</td>\n",
              "      <td>82</td>\n",
              "      <td>32</td>\n",
              "      <td>0.190</td>\n",
              "      <td>7.0</td>\n",
              "      <td>0.81</td>\n",
              "      <td>0.698409</td>\n",
              "    </tr>\n",
              "    <tr>\n",
              "      <th>15</th>\n",
              "      <td>Norca</td>\n",
              "      <td>79</td>\n",
              "      <td>23</td>\n",
              "      <td>0.030</td>\n",
              "      <td>-6.0</td>\n",
              "      <td>0.89</td>\n",
              "      <td>0.783514</td>\n",
              "    </tr>\n",
              "    <tr>\n",
              "      <th>16</th>\n",
              "      <td>Crot</td>\n",
              "      <td>81</td>\n",
              "      <td>18</td>\n",
              "      <td>0.028</td>\n",
              "      <td>-7.0</td>\n",
              "      <td>0.93</td>\n",
              "      <td>0.801132</td>\n",
              "    </tr>\n",
              "    <tr>\n",
              "      <th>17</th>\n",
              "      <td>Zontia</td>\n",
              "      <td>83</td>\n",
              "      <td>33</td>\n",
              "      <td>0.450</td>\n",
              "      <td>8.0</td>\n",
              "      <td>0.66</td>\n",
              "      <td>0.631803</td>\n",
              "    </tr>\n",
              "    <tr>\n",
              "      <th>18</th>\n",
              "      <td>Hecia</td>\n",
              "      <td>76</td>\n",
              "      <td>29</td>\n",
              "      <td>0.230</td>\n",
              "      <td>-2.4</td>\n",
              "      <td>0.83</td>\n",
              "      <td>0.736550</td>\n",
              "    </tr>\n",
              "    <tr>\n",
              "      <th>19</th>\n",
              "      <td>Korolia</td>\n",
              "      <td>73</td>\n",
              "      <td>36</td>\n",
              "      <td>0.340</td>\n",
              "      <td>-8.0</td>\n",
              "      <td>0.63</td>\n",
              "      <td>0.687720</td>\n",
              "    </tr>\n",
              "    <tr>\n",
              "      <th>20</th>\n",
              "      <td>Naurissu</td>\n",
              "      <td>90</td>\n",
              "      <td>15</td>\n",
              "      <td>0.014</td>\n",
              "      <td>0.0</td>\n",
              "      <td>0.93</td>\n",
              "      <td>0.778623</td>\n",
              "    </tr>\n",
              "    <tr>\n",
              "      <th>21</th>\n",
              "      <td>Karamana</td>\n",
              "      <td>87</td>\n",
              "      <td>25</td>\n",
              "      <td>0.016</td>\n",
              "      <td>16.0</td>\n",
              "      <td>0.92</td>\n",
              "      <td>0.729462</td>\n",
              "    </tr>\n",
              "    <tr>\n",
              "      <th>22</th>\n",
              "      <td>Lianzhen</td>\n",
              "      <td>78</td>\n",
              "      <td>42</td>\n",
              "      <td>0.160</td>\n",
              "      <td>-4.0</td>\n",
              "      <td>0.81</td>\n",
              "      <td>0.741599</td>\n",
              "    </tr>\n",
              "    <tr>\n",
              "      <th>23</th>\n",
              "      <td>Pingyuan</td>\n",
              "      <td>72</td>\n",
              "      <td>32</td>\n",
              "      <td>0.210</td>\n",
              "      <td>-4.0</td>\n",
              "      <td>0.76</td>\n",
              "      <td>0.720307</td>\n",
              "    </tr>\n",
              "  </tbody>\n",
              "</table>\n",
              "</div>"
            ],
            "text/plain": [
              "                         Country  ...         5\n",
              "0                        Zanklan  ...  0.766221\n",
              "1                Klatina Islands  ...  0.766004\n",
              "2                         Gokkan  ...  0.676297\n",
              "3   United Kindgom of the cyltus  ...  0.745016\n",
              "4                     Carolingia  ...  0.727844\n",
              "5                          Akata  ...  0.635824\n",
              "6                        Nantian  ...  0.752608\n",
              "7                       Tianzhen  ...  0.720274\n",
              "8                       Huangjin  ...  0.706030\n",
              "9                         Amaria  ...  0.685917\n",
              "10                        Sunata  ...  0.691912\n",
              "11                         Grita  ...  0.712744\n",
              "12                        Sianta  ...  0.696578\n",
              "13                       Tanagun  ...  0.658236\n",
              "14                       Dagonia  ...  0.698409\n",
              "15                         Norca  ...  0.783514\n",
              "16                          Crot  ...  0.801132\n",
              "17                        Zontia  ...  0.631803\n",
              "18                         Hecia  ...  0.736550\n",
              "19                       Korolia  ...  0.687720\n",
              "20                      Naurissu  ...  0.778623\n",
              "21                      Karamana  ...  0.729462\n",
              "22                      Lianzhen  ...  0.741599\n",
              "23                      Pingyuan  ...  0.720307\n",
              "\n",
              "[24 rows x 7 columns]"
            ]
          },
          "metadata": {
            "tags": []
          },
          "execution_count": 64
        }
      ]
    }
  ]
}